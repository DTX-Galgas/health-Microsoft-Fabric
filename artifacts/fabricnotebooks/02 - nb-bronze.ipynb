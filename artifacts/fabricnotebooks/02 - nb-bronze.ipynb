{
 "cells": [
  {
   "cell_type": "markdown",
   "id": "582cf6c7-68dc-4eb7-9cca-b86a6dd2f605",
   "metadata": {
    "microsoft": {
     "language": "python",
     "language_group": "synapse_pyspark"
    },
    "nteract": {
     "transient": {
      "deleting": false
     }
    }
   },
   "source": [
    "# Ingestão de Dados JSON da Landing Zone para a Bronze\n",
    "\n",
    " Este notebook realiza a leitura do arquivo JSON da landing zone, que contém um Bundle FHIR com uma lista de entradas no campo `entry`. \n",
    "\n",
    " Em seguida, os recursos são extraídos, achatados e separados por tipo para serem salvos em tabelas Delta na camada Bronze.\n",
    "\n",
    " **Observações:**\n",
    " - Use o caminho adequado para o arquivo JSON da landing zone.\n",
    " - As tabelas são criadas com o modo \"overwrite\", garantindo que cada execução atualize os dados.\n"
   ]
  },
  {
   "cell_type": "code",
   "execution_count": 37,
   "id": "1f1aaab8-6b22-45b4-bc8d-029fe9d8cbbf",
   "metadata": {
    "microsoft": {
     "language": "python",
     "language_group": "synapse_pyspark"
    }
   },
   "outputs": [
    {
     "data": {
      "application/vnd.livy.statement-meta+json": {
       "execution_finish_time": "2025-02-23T17:33:37.3805398Z",
       "execution_start_time": "2025-02-23T17:33:37.1010991Z",
       "livy_statement_state": "available",
       "normalized_state": "finished",
       "parent_msg_id": "28897fb3-9c29-403f-9390-02891853f706",
       "queued_time": "2025-02-23T17:33:36.9719565Z",
       "session_id": "6835d3ec-3488-4691-888a-4372bcce0503",
       "session_start_time": null,
       "spark_pool": null,
       "state": "finished",
       "statement_id": 39,
       "statement_ids": [
        39
       ]
      },
      "text/plain": [
       "StatementMeta(, 6835d3ec-3488-4691-888a-4372bcce0503, 39, Finished, Available, Finished)"
      ]
     },
     "metadata": {},
     "output_type": "display_data"
    }
   ],
   "source": [
    "# Define a variável para o schema do Lakehouse Bronze\n",
    "bronze_schema = \"bronze_health\"\n",
    "\n",
    "# Diretório base onde os arquivos JSON estão salvos\n",
    "base_directory = \"Files/Raw/FHIRData\""
   ]
  },
  {
   "cell_type": "code",
   "execution_count": 38,
   "id": "34fa5668-734f-42c4-a9bc-38e71468d98d",
   "metadata": {
    "microsoft": {
     "language": "python",
     "language_group": "synapse_pyspark"
    }
   },
   "outputs": [
    {
     "data": {
      "application/vnd.livy.statement-meta+json": {
       "execution_finish_time": "2025-02-23T17:33:38.4573554Z",
       "execution_start_time": "2025-02-23T17:33:37.4973656Z",
       "livy_statement_state": "available",
       "normalized_state": "finished",
       "parent_msg_id": "db1aeed1-51ed-4b17-b779-04500defcb0d",
       "queued_time": "2025-02-23T17:33:37.0507896Z",
       "session_id": "6835d3ec-3488-4691-888a-4372bcce0503",
       "session_start_time": null,
       "spark_pool": null,
       "state": "finished",
       "statement_id": 40,
       "statement_ids": [
        40
       ]
      },
      "text/plain": [
       "StatementMeta(, 6835d3ec-3488-4691-888a-4372bcce0503, 40, Finished, Available, Finished)"
      ]
     },
     "metadata": {},
     "output_type": "display_data"
    },
    {
     "data": {
      "text/plain": [
       "[FileInfo(path=abfss://5aad9838-8ce9-4dff-af19-512a77e46917@onelake.dfs.fabric.microsoft.com/4ce8615c-a96e-4904-a59f-1c1fa48881a9/Files/Raw/FHIRData/2025, name=2025, size=0)]"
      ]
     },
     "metadata": {},
     "output_type": "display_data"
    }
   ],
   "source": [
    "display(mssparkutils.fs.ls(\"Files/Raw/FHIRData\"))"
   ]
  },
  {
   "cell_type": "code",
   "execution_count": 39,
   "id": "12e9c0c1-a7c3-41f4-919c-8e4e61462938",
   "metadata": {
    "collapsed": false,
    "microsoft": {
     "language": "python",
     "language_group": "synapse_pyspark"
    }
   },
   "outputs": [
    {
     "data": {
      "application/vnd.livy.statement-meta+json": {
       "execution_finish_time": "2025-02-23T17:33:40.3005684Z",
       "execution_start_time": "2025-02-23T17:33:38.6020009Z",
       "livy_statement_state": "available",
       "normalized_state": "finished",
       "parent_msg_id": "7dd3e051-fa9a-4c99-a899-b0d6c7a9b236",
       "queued_time": "2025-02-23T17:33:37.13354Z",
       "session_id": "6835d3ec-3488-4691-888a-4372bcce0503",
       "session_start_time": null,
       "spark_pool": null,
       "state": "finished",
       "statement_id": 41,
       "statement_ids": [
        41
       ]
      },
      "text/plain": [
       "StatementMeta(, 6835d3ec-3488-4691-888a-4372bcce0503, 41, Finished, Available, Finished)"
      ]
     },
     "metadata": {},
     "output_type": "display_data"
    },
    {
     "name": "stdout",
     "output_type": "stream",
     "text": [
      "Arquivo mais recente: abfss://5aad9838-8ce9-4dff-af19-512a77e46917@onelake.dfs.fabric.microsoft.com/4ce8615c-a96e-4904-a59f-1c1fa48881a9/Files/Raw/FHIRData/2025/02/23/20250223152342.json\n"
     ]
    }
   ],
   "source": [
    "from pyspark.sql.functions import col, explode\n",
    "from pyspark.sql.types import StructType\n",
    "\n",
    "# Função para listar arquivos recursivamente\n",
    "def list_all_files(directory):\n",
    "    file_list = []\n",
    "    for item in mssparkutils.fs.ls(directory):\n",
    "        if item.isDir:\n",
    "            file_list.extend(list_all_files(item.path))\n",
    "        else:\n",
    "            file_list.append(item)\n",
    "    return file_list\n",
    "\n",
    "\n",
    "# Lista todos os arquivos a partir do diretório base\n",
    "all_files = list_all_files(base_directory)\n",
    "\n",
    "if not all_files:\n",
    "    raise Exception(f\"Nenhum arquivo encontrado em {base_directory}\")\n",
    "\n",
    "# Seleciona o arquivo mais recente com base no nome (assumindo que o nome possui a data/hora no formato AAAAMMDDHHMMSS)\n",
    "latest_file = max(all_files, key=lambda x: x.name)\n",
    "landing_zone_path = latest_file.path\n",
    "\n",
    "print(\"Arquivo mais recente:\", landing_zone_path)\n",
    "\n",
    "# Leitura do JSON com a opção multiline para tratar arquivos com quebras de linha\n",
    "df_raw = spark.read.option(\"multiline\", \"true\").json(landing_zone_path)\n",
    "\n",
    "# Visualiza o schema e algumas linhas para validação\n",
    "#df_raw.printSchema()\n",
    "#display(df_raw.limit(3))"
   ]
  },
  {
   "cell_type": "markdown",
   "id": "9b097aea-2feb-40b7-9eca-0280b53d6822",
   "metadata": {
    "microsoft": {
     "language": "python",
     "language_group": "synapse_pyspark"
    },
    "nteract": {
     "transient": {
      "deleting": false
     }
    }
   },
   "source": [
    " ## Extração das Entradas do Bundle\n",
    "\n",
    " O JSON lido é um Bundle FHIR que possui um campo `entry` contendo uma lista de registros. \n",
    "\n",
    " Vamos explodir esse array para que cada entrada seja uma linha e extrair o campo `resource` de cada entrada.\n"
   ]
  },
  {
   "cell_type": "code",
   "execution_count": 40,
   "id": "10f74f21-0820-4d96-8ea1-a9ce716b8111",
   "metadata": {
    "collapsed": false,
    "microsoft": {
     "language": "python",
     "language_group": "synapse_pyspark"
    }
   },
   "outputs": [
    {
     "data": {
      "application/vnd.livy.statement-meta+json": {
       "execution_finish_time": "2025-02-23T17:33:44.306964Z",
       "execution_start_time": "2025-02-23T17:33:40.4266878Z",
       "livy_statement_state": "available",
       "normalized_state": "finished",
       "parent_msg_id": "d6a433eb-2c2b-4fc5-9e6f-d2e54a5b4e3b",
       "queued_time": "2025-02-23T17:33:37.1994666Z",
       "session_id": "6835d3ec-3488-4691-888a-4372bcce0503",
       "session_start_time": null,
       "spark_pool": null,
       "state": "finished",
       "statement_id": 42,
       "statement_ids": [
        42
       ]
      },
      "text/plain": [
       "StatementMeta(, 6835d3ec-3488-4691-888a-4372bcce0503, 42, Finished, Available, Finished)"
      ]
     },
     "metadata": {},
     "output_type": "display_data"
    },
    {
     "data": {
      "application/vnd.synapse.widget-view+json": {
       "widget_id": "4406665f-80f2-430a-aa74-d4cbe359676d",
       "widget_type": "Synapse.DataFrame"
      },
      "text/plain": [
       "SynapseWidget(Synapse.DataFrame, 4406665f-80f2-430a-aa74-d4cbe359676d)"
      ]
     },
     "metadata": {},
     "output_type": "display_data"
    }
   ],
   "source": [
    "# Explode o array \"entry\" para obter cada registro em uma linha\n",
    "df_entries = df_raw.select(explode(\"entry\").alias(\"entry\"))\n",
    "\n",
    "# Seleciona o objeto resource de cada entrada\n",
    "df_resources = df_entries.select(\"entry.resource.*\")\n",
    "\n",
    "# Verifica o schema resultante e mostra alguns registros\n",
    "#df_resources.printSchema()\n",
    "display(df_resources.limit(5))\n"
   ]
  },
  {
   "cell_type": "markdown",
   "id": "060de68f-76de-4d22-a430-87f690f338c7",
   "metadata": {
    "microsoft": {
     "language": "python",
     "language_group": "synapse_pyspark"
    },
    "nteract": {
     "transient": {
      "deleting": false
     }
    }
   },
   "source": [
    "## Função para Achatar o DataFrame\n",
    "\n",
    "Muitas vezes os recursos possuem estruturas aninhadas (structs) que dificultam a análise tabular.\n",
    "\n",
    "A função abaixo percorre as colunas do DataFrame e, para aquelas que são do tipo `struct`, extrai seus campos criando colunas com nomes concatenados."
   ]
  },
  {
   "cell_type": "code",
   "execution_count": 41,
   "id": "c6874897-3d19-42cd-8c9b-d043ddbce3a1",
   "metadata": {
    "collapsed": false,
    "microsoft": {
     "language": "python",
     "language_group": "synapse_pyspark"
    }
   },
   "outputs": [
    {
     "data": {
      "application/vnd.livy.statement-meta+json": {
       "execution_finish_time": "2025-02-23T17:33:48.331097Z",
       "execution_start_time": "2025-02-23T17:33:44.4358864Z",
       "livy_statement_state": "available",
       "normalized_state": "finished",
       "parent_msg_id": "60900d75-3ec4-402e-bf62-e71e62b75831",
       "queued_time": "2025-02-23T17:33:37.2762063Z",
       "session_id": "6835d3ec-3488-4691-888a-4372bcce0503",
       "session_start_time": null,
       "spark_pool": null,
       "state": "finished",
       "statement_id": 43,
       "statement_ids": [
        43
       ]
      },
      "text/plain": [
       "StatementMeta(, 6835d3ec-3488-4691-888a-4372bcce0503, 43, Finished, Available, Finished)"
      ]
     },
     "metadata": {},
     "output_type": "display_data"
    },
    {
     "data": {
      "application/vnd.synapse.widget-view+json": {
       "widget_id": "200de59f-3a12-4550-90cc-47de0b8ec76b",
       "widget_type": "Synapse.DataFrame"
      },
      "text/plain": [
       "SynapseWidget(Synapse.DataFrame, 200de59f-3a12-4550-90cc-47de0b8ec76b)"
      ]
     },
     "metadata": {},
     "output_type": "display_data"
    }
   ],
   "source": [
    "from pyspark.sql.functions import col\n",
    "from pyspark.sql.types import StructType\n",
    "\n",
    "def flatten_df(nested_df):\n",
    "    \"\"\"\n",
    "    Achata colunas do tipo struct para um DataFrame plano.\n",
    "    \"\"\"\n",
    "    flat_cols = []\n",
    "    for column in nested_df.columns:\n",
    "        dtype = nested_df.schema[column].dataType\n",
    "        if isinstance(dtype, StructType):\n",
    "            for field in dtype.fields:\n",
    "                flat_cols.append(col(f\"{column}.{field.name}\").alias(f\"{column}_{field.name}\"))\n",
    "        else:\n",
    "            flat_cols.append(col(column))\n",
    "    return nested_df.select(flat_cols)\n",
    "\n",
    "# Aplica o flatten para o DataFrame de recursos\n",
    "df_flat = flatten_df(df_resources)\n",
    "\n",
    "# Visualiza o schema e os primeiros registros já achatados\n",
    "#df_flat.printSchema()\n",
    "display(df_flat.limit(2))\n"
   ]
  },
  {
   "cell_type": "markdown",
   "id": "b999237b-b8cd-4ee4-8531-a85504f33673",
   "metadata": {
    "microsoft": {
     "language": "python",
     "language_group": "synapse_pyspark"
    },
    "nteract": {
     "transient": {
      "deleting": false
     }
    }
   },
   "source": [
    " ## Função para Salvar Cada Recurso como Tabela na Bronze\n",
    "\n",
    " A função `save_resource_table` filtra o DataFrame para um dado `resourceType`, aplica um flatten extra (caso haja novos aninhamentos) e salva o resultado como uma tabela Delta.\n",
    "\n",
    " O dicionário `resources_tables` define o mapeamento entre o tipo de recurso e o nome da tabela de destino."
   ]
  },
  {
   "cell_type": "code",
   "execution_count": null,
   "id": "b6d83657-cd86-402a-810c-f7af6a2f1049",
   "metadata": {
    "microsoft": {
     "language": "python",
     "language_group": "synapse_pyspark"
    }
   },
   "outputs": [
    {
     "data": {
      "application/vnd.livy.statement-meta+json": {
       "execution_finish_time": "2025-02-23T17:36:28.5686641Z",
       "execution_start_time": "2025-02-23T17:33:48.4552646Z",
       "livy_statement_state": "available",
       "normalized_state": "finished",
       "parent_msg_id": "a33f6864-2f6e-4b59-ba73-6ffc623be277",
       "queued_time": "2025-02-23T17:33:37.3614414Z",
       "session_id": "6835d3ec-3488-4691-888a-4372bcce0503",
       "session_start_time": null,
       "spark_pool": null,
       "state": "finished",
       "statement_id": 44,
       "statement_ids": [
        44
       ]
      },
      "text/plain": [
       "StatementMeta(, 6835d3ec-3488-4691-888a-4372bcce0503, 44, Finished, Available, Finished)"
      ]
     },
     "metadata": {},
     "output_type": "display_data"
    },
    {
     "name": "stdout",
     "output_type": "stream",
     "text": [
      "Tabela 'bronze_health.Patients' criada com sucesso!\n",
      "Tabela 'bronze_health.Encounters' criada com sucesso!\n",
      "Tabela 'bronze_health.Conditions' criada com sucesso!\n",
      "Tabela 'bronze_health.DiagnosticReports' criada com sucesso!\n",
      "Tabela 'bronze_health.DocumentReferences' criada com sucesso!\n",
      "Tabela 'bronze_health.Claims' criada com sucesso!\n",
      "Tabela 'bronze_health.Explanations' criada com sucesso!\n",
      "Tabela 'bronze_health.MedicationRequests' criada com sucesso!\n",
      "Tabela 'bronze_health.Devices' criada com sucesso!\n",
      "Tabela 'bronze_health.SupplyDeliveries' criada com sucesso!\n",
      "Tabela 'bronze_health.CareTeams' criada com sucesso!\n",
      "Tabela 'bronze_health.CarePlans' criada com sucesso!\n",
      "Tabela 'bronze_health.Observations' criada com sucesso!\n",
      "Tabela 'bronze_health.Procedures' criada com sucesso!\n",
      "Tabela 'bronze_health.Medications' criada com sucesso!\n",
      "Tabela 'bronze_health.MedicationAdministrations' criada com sucesso!\n",
      "Tabela 'bronze_health.Immunizations' criada com sucesso!\n",
      "Tabela 'bronze_health.ImagingStudies' criada com sucesso!\n",
      "Tabela 'bronze_health.Provenances' criada com sucesso!\n"
     ]
    }
   ],
   "source": [
    "from pyspark.sql.functions import col, current_timestamp\n",
    "\n",
    "def save_resource_table(df, resource_type, table_name):\n",
    "    # Filtra os registros para o resourceType desejado\n",
    "    df_filtered = df.filter(col(\"resourceType\") == resource_type)\n",
    "    \n",
    "    # Se houver registros para esse recurso, aplica flatten, adiciona a data de atualização e salva a tabela\n",
    "    if df_filtered.head(1):\n",
    "        df_filtered_flat = flatten_df(df_filtered)\n",
    "        # Adiciona a coluna 'update_date' com o timestamp atual\n",
    "        df_filtered_flat = df_filtered_flat.withColumn(\"update_date\", current_timestamp())\n",
    "        df_filtered_flat.write.format(\"delta\").mode(\"overwrite\").saveAsTable(table_name)\n",
    "        print(f\"Tabela '{table_name}' criada com sucesso!\")\n",
    "    else:\n",
    "        print(f\"Nenhum registro encontrado para o resourceType: {resource_type}\")\n",
    "\n",
    "# Define a variável para o schema do Lakehouse Bronze\n",
    "#bronze_schema = \"bronze_health\"\n",
    "\n",
    "# Define os tipos de recursos e os respectivos nomes das tabelas na Bronze usando a variável\n",
    "resources_tables = {\n",
    "    \"Patient\": f\"{bronze_schema}.Patients\",\n",
    "    \"Encounter\": f\"{bronze_schema}.Encounters\",\n",
    "    \"Condition\": f\"{bronze_schema}.Conditions\",\n",
    "    \"DiagnosticReport\": f\"{bronze_schema}.DiagnosticReports\",\n",
    "    \"DocumentReference\": f\"{bronze_schema}.DocumentReferences\",\n",
    "    \"Claim\": f\"{bronze_schema}.Claims\",\n",
    "    \"ExplanationOfBenefit\": f\"{bronze_schema}.Explanations\",\n",
    "    \"MedicationRequest\": f\"{bronze_schema}.MedicationRequests\",\n",
    "    \"Device\": f\"{bronze_schema}.Devices\",\n",
    "    \"SupplyDelivery\": f\"{bronze_schema}.SupplyDeliveries\",\n",
    "    \"CareTeam\": f\"{bronze_schema}.CareTeams\",\n",
    "    \"CarePlan\": f\"{bronze_schema}.CarePlans\",\n",
    "    \"Observation\": f\"{bronze_schema}.Observations\",\n",
    "    \"Procedure\": f\"{bronze_schema}.Procedures\",\n",
    "    \"Medication\": f\"{bronze_schema}.Medications\",\n",
    "    \"MedicationAdministration\": f\"{bronze_schema}.MedicationAdministrations\",\n",
    "    \"Immunization\": f\"{bronze_schema}.Immunizations\",\n",
    "    \"ImagingStudy\": f\"{bronze_schema}.ImagingStudies\",\n",
    "    \"Provenance\": f\"{bronze_schema}.Provenances\"\n",
    "}\n",
    "\n",
    "# Itera sobre os tipos de recurso e salva cada tabela com a coluna de atualização\n",
    "for resource_type, table_name in resources_tables.items():\n",
    "    save_resource_table(df_flat, resource_type, table_name)\n"
   ]
  },
  {
   "cell_type": "markdown",
   "id": "27a571c5-0d6b-4fc4-881d-bbc9632740e0",
   "metadata": {
    "microsoft": {
     "language": "python",
     "language_group": "synapse_pyspark"
    },
    "nteract": {
     "transient": {
      "deleting": false
     }
    }
   },
   "source": [
    "## Verificação\n",
    "\n",
    " Você pode consultar cada tabela criada para confirmar os dados.\n",
    "\n",
    "\n",
    " Exemplo: Visualizando os primeiros registros da tabela de pacientes.\n"
   ]
  },
  {
   "cell_type": "code",
   "execution_count": 43,
   "id": "b961959e-3e5f-4ffa-b62b-770ca0809aca",
   "metadata": {
    "collapsed": false,
    "microsoft": {
     "language": "python",
     "language_group": "synapse_pyspark"
    }
   },
   "outputs": [
    {
     "data": {
      "application/vnd.livy.statement-meta+json": {
       "execution_finish_time": "2025-02-23T17:36:32.5598619Z",
       "execution_start_time": "2025-02-23T17:36:28.6948041Z",
       "livy_statement_state": "available",
       "normalized_state": "finished",
       "parent_msg_id": "a33ce08e-1349-4843-a8f3-97bea3185ee6",
       "queued_time": "2025-02-23T17:33:37.4537743Z",
       "session_id": "6835d3ec-3488-4691-888a-4372bcce0503",
       "session_start_time": null,
       "spark_pool": null,
       "state": "finished",
       "statement_id": 45,
       "statement_ids": [
        45
       ]
      },
      "text/plain": [
       "StatementMeta(, 6835d3ec-3488-4691-888a-4372bcce0503, 45, Finished, Available, Finished)"
      ]
     },
     "metadata": {},
     "output_type": "display_data"
    },
    {
     "data": {
      "application/vnd.synapse.widget-view+json": {
       "widget_id": "910569fd-3175-4410-855c-c5f09a311457",
       "widget_type": "Synapse.DataFrame"
      },
      "text/plain": [
       "SynapseWidget(Synapse.DataFrame, 910569fd-3175-4410-855c-c5f09a311457)"
      ]
     },
     "metadata": {},
     "output_type": "display_data"
    }
   ],
   "source": [
    "display(spark.table(\"bronze_health.patients\").limit(2))\n"
   ]
  }
 ],
 "metadata": {
  "dependencies": {
   "lakehouse": {}
  },
  "kernel_info": {
   "name": "synapse_pyspark"
  },
  "kernelspec": {
   "display_name": "Synapse PySpark",
   "language": "Python",
   "name": "synapse_pyspark"
  },
  "language_info": {
   "name": "python"
  },
  "microsoft": {
   "language": "python",
   "language_group": "synapse_pyspark",
   "ms_spell_check": {
    "ms_spell_check_language": "en"
   }
  },
  "nteract": {
   "version": "nteract-front-end@1.0.0"
  },
  "spark_compute": {
   "compute_id": "/trident/default",
   "session_options": {
    "conf": {
     "spark.synapse.nbs.session.timeout": "1200000"
    }
   }
  },
  "synapse_widget": {
   "state": {
    "200de59f-3a12-4550-90cc-47de0b8ec76b": {
     "persist_state": {
      "view": {
       "chartOptions": {
        "aggregationType": "count",
        "binsNumber": 10,
        "categoryFieldKeys": [
         "9"
        ],
        "chartType": "line",
        "evaluatesOverAllRecords": false,
        "isStacked": false,
        "seriesFieldKeys": [
         "17"
        ],
        "wordFrequency": "-1"
       },
       "tableOptions": {},
       "type": "details",
       "viewOptionsGroup": [
        {
         "tabItems": [
          {
           "key": "0",
           "name": "Table",
           "options": {},
           "type": "table"
          }
         ]
        }
       ]
      }
     },
     "sync_state": {
      "isSummary": false,
      "language": "scala",
      "table": {
       "rows": [
        {
         "2": [
          {
           "city": "Charlton",
           "country": "US",
           "extension": [
            {
             "extension": [
              {
               "url": "latitude",
               "valueDecimal": 42.132457104115716
              },
              {
               "url": "longitude",
               "valueDecimal": -72.00729222685227
              }
             ],
             "url": "http://hl7.org/fhir/StructureDefinition/geolocation"
            }
           ],
           "line": [
            "1030 Stehr Tunnel Apt 45"
           ],
           "postalCode": "00000",
           "state": "MA"
          }
         ],
         "9": "1935-12-09",
         "18": [
          {
           "language": {
            "coding": [
             {
              "code": "en-US",
              "display": "English (United States)",
              "system": "urn:ietf:bcp:47"
             }
            ],
            "text": "English (United States)"
           }
          }
         ],
         "36": [
          {
           "extension": [
            {
             "url": "ombCategory",
             "valueCoding": {
              "code": "2106-3",
              "display": "White",
              "system": "urn:oid:2.16.840.1.113883.6.238"
             }
            },
            {
             "url": "text",
             "valueString": "White"
            }
           ],
           "url": "http://hl7.org/fhir/us/core/StructureDefinition/us-core-race"
          },
          {
           "extension": [
            {
             "url": "ombCategory",
             "valueCoding": {
              "code": "2186-5",
              "display": "Not Hispanic or Latino",
              "system": "urn:oid:2.16.840.1.113883.6.238"
             }
            },
            {
             "url": "text",
             "valueString": "Not Hispanic or Latino"
            }
           ],
           "url": "http://hl7.org/fhir/us/core/StructureDefinition/us-core-ethnicity"
          },
          {
           "url": "http://hl7.org/fhir/StructureDefinition/patient-mothersMaidenName",
           "valueString": "France571 Cremin516"
          },
          {
           "url": "http://hl7.org/fhir/us/core/StructureDefinition/us-core-birthsex",
           "valueCode": "F"
          },
          {
           "url": "http://hl7.org/fhir/StructureDefinition/patient-birthPlace",
           "valueAddress": {
            "city": "Wilbraham",
            "country": "US",
            "state": "Massachusetts"
           }
          },
          {
           "url": "http://synthetichealth.github.io/synthea/disability-adjusted-life-years",
           "valueDecimal": 27.91679564493305
          },
          {
           "url": "http://synthetichealth.github.io/synthea/quality-adjusted-life-years",
           "valueDecimal": 59.083204355066954
          }
         ],
         "39": "female",
         "41": "92334595-e571-c56a-2a26-2853bab79def",
         "42": [
          {
           "system": "https://github.com/synthetichealth/synthea",
           "value": "92334595-e571-c56a-2a26-2853bab79def"
          },
          {
           "system": "http://hospital.smarthealthit.org",
           "type": {
            "coding": [
             {
              "code": "MR",
              "display": "Medical Record Number",
              "system": "http://terminology.hl7.org/CodeSystem/v2-0203"
             }
            ],
            "text": "Medical Record Number"
           },
           "value": "92334595-e571-c56a-2a26-2853bab79def"
          },
          {
           "system": "http://hl7.org/fhir/sid/us-ssn",
           "type": {
            "coding": [
             {
              "code": "SS",
              "display": "Social Security Number",
              "system": "http://terminology.hl7.org/CodeSystem/v2-0203"
             }
            ],
            "text": "Social Security Number"
           },
           "value": "999-68-6070"
          },
          {
           "system": "urn:oid:2.16.840.1.113883.4.3.25",
           "type": {
            "coding": [
             {
              "code": "DL",
              "display": "Driver's license number",
              "system": "http://terminology.hl7.org/CodeSystem/v2-0203"
             }
            ],
            "text": "Driver's license number"
           },
           "value": "S99968740"
          },
          {
           "system": "http://standardhealthrecord.org/fhir/StructureDefinition/passportNumber",
           "type": {
            "coding": [
             {
              "code": "PPN",
              "display": "Passport Number",
              "system": "http://terminology.hl7.org/CodeSystem/v2-0203"
             }
            ],
            "text": "Passport Number"
           },
           "value": "X58389279X"
          }
         ],
         "52": [
          {
           "code": "M",
           "display": "Married",
           "system": "http://terminology.hl7.org/CodeSystem/v3-MaritalStatus"
          }
         ],
         "53": "Married",
         "57": [
          "http://hl7.org/fhir/us/core/StructureDefinition/us-core-patient"
         ],
         "58": "false",
         "59": [
          {
           "family": "Marks830",
           "given": [
            "Zoraida650",
            "Latashia561"
           ],
           "prefix": [
            "Mrs."
           ],
           "use": "official"
          },
          {
           "family": "Hartmann983",
           "given": [
            "Zoraida650",
            "Latashia561"
           ],
           "prefix": [
            "Mrs."
           ],
           "use": "maiden"
          }
         ],
         "89": "Patient",
         "103": [
          {
           "system": "phone",
           "use": "home",
           "value": "555-320-7304"
          }
         ],
         "104": "<div xmlns=\"http://www.w3.org/1999/xhtml\">Generated by <a href=\"https://github.com/synthetichealth/synthea\">Synthea</a>.Version identifier: 188ce63\n .   Person seed: -6624127831976242326  Population seed: 1687380550931</div>",
         "105": "generated"
        },
        {
         "13": "EMER",
         "14": "http://terminology.hl7.org/CodeSystem/v3-ActCode",
         "40": {
          "coding": [
           {
            "code": "01",
            "display": "Discharged to home care or self care (routine discharge)",
            "system": "http://www.nubc.org/patient-discharge"
           }
          ],
          "text": "Discharged to home care or self care (routine discharge)"
         },
         "41": "903618a8-4786-8bcd-9530-df25a099d8c2",
         "42": [
          {
           "system": "https://github.com/synthetichealth/synthea",
           "use": "official",
           "value": "903618a8-4786-8bcd-9530-df25a099d8c2"
          }
         ],
         "48": "[{\"location\":{\"reference\":\"Location?identifier=https://github.com/synthetichealth/synthea|3d6f958a-1d16-3cdd-97f6-a7fc9d5d5418\",\"display\":\"OVERLOOK MASONIC HEALTH CENTER\"}}]",
         "57": [
          "http://hl7.org/fhir/us/core/StructureDefinition/us-core-encounter"
         ],
         "65": [
          {
           "individual": {
            "display": "Dr. Lyndon118 Trantow673",
            "reference": "Practitioner?identifier=http://hl7.org/fhir/sid/us-npi|9999900696"
           },
           "period": {
            "end": "1935-12-27T13:29:58+00:00",
            "start": "1935-12-27T11:16:04+00:00"
           },
           "type": [
            {
             "coding": [
              {
               "code": "PPRF",
               "display": "primary performer",
               "system": "http://terminology.hl7.org/CodeSystem/v3-ParticipationType"
              }
             ],
             "text": "primary performer"
            }
           ]
          }
         ],
         "72": "1935-12-27T13:29:58+00:00",
         "73": "1935-12-27T11:16:04+00:00",
         "82": [
          {
           "coding": [
            {
             "code": "128613002",
             "display": "Seizure disorder",
             "system": "http://snomed.info/sct"
            }
           ]
          }
         ],
         "89": "Encounter",
         "93": "OVERLOOK MASONIC HEALTH CENTER",
         "94": "Organization?identifier=https://github.com/synthetichealth/synthea|0d7fd824-1c7b-3f8b-a662-f6c2005e82e1",
         "96": "finished",
         "97": "Mrs. Zoraida650 Latashia561 Marks830",
         "98": "urn:uuid:92334595-e571-c56a-2a26-2853bab79def",
         "107": "[{\"coding\":[{\"system\":\"http://snomed.info/sct\",\"code\":\"50849002\",\"display\":\"Emergency room admission (procedure)\"}],\"text\":\"Emergency room admission (procedure)\"}]"
        }
       ],
       "schema": [
        {
         "key": "0",
         "name": "abatementDateTime",
         "type": "string"
        },
        {
         "key": "1",
         "name": "activity",
         "type": "ArrayType(StructType(StructField(detail,StructType(StructField(code,StructType(StructField(coding,ArrayType(StructType(StructField(code,StringType,true),StructField(display,StringType,true),StructField(system,StringType,true)),true),true),StructField(text,StringType,true)),true),StructField(location,StructType(StructField(display,StringType,true)),true),StructField(reasonReference,ArrayType(StructType(StructField(reference,StringType,true)),true),true),StructField(status,StringType,true)),true)),true)"
        },
        {
         "key": "2",
         "name": "address",
         "type": "ArrayType(StructType(StructField(city,StringType,true),StructField(country,StringType,true),StructField(extension,ArrayType(StructType(StructField(extension,ArrayType(StructType(StructField(url,StringType,true),StructField(valueDecimal,DoubleType,true)),true),true),StructField(url,StringType,true)),true),true),StructField(line,ArrayType(StringType,true),true),StructField(postalCode,StringType,true),StructField(state,StringType,true)),true)"
        },
        {
         "key": "3",
         "name": "addresses",
         "type": "ArrayType(StructType(StructField(reference,StringType,true)),true)"
        },
        {
         "key": "4",
         "name": "agent",
         "type": "ArrayType(StructType(StructField(onBehalfOf,StructType(StructField(display,StringType,true),StructField(reference,StringType,true)),true),StructField(type,StructType(StructField(coding,ArrayType(StructType(StructField(code,StringType,true),StructField(display,StringType,true),StructField(system,StringType,true)),true),true),StructField(text,StringType,true)),true),StructField(who,StructType(StructField(display,StringType,true),StructField(reference,StringType,true)),true)),true)"
        },
        {
         "key": "5",
         "name": "author",
         "type": "ArrayType(StructType(StructField(display,StringType,true),StructField(reference,StringType,true)),true)"
        },
        {
         "key": "6",
         "name": "authoredOn",
         "type": "string"
        },
        {
         "key": "7",
         "name": "billablePeriod_end",
         "type": "string"
        },
        {
         "key": "8",
         "name": "billablePeriod_start",
         "type": "string"
        },
        {
         "key": "9",
         "name": "birthDate",
         "type": "string"
        },
        {
         "key": "10",
         "name": "careTeam",
         "type": "ArrayType(StructType(StructField(provider,StructType(StructField(reference,StringType,true)),true),StructField(reference,StringType,true),StructField(role,StructType(StructField(coding,ArrayType(StructType(StructField(code,StringType,true),StructField(display,StringType,true),StructField(system,StringType,true)),true),true)),true),StructField(sequence,LongType,true)),true)"
        },
        {
         "key": "11",
         "name": "category",
         "type": "ArrayType(StructType(StructField(coding,ArrayType(StructType(StructField(code,StringType,true),StructField(display,StringType,true),StructField(system,StringType,true)),true),true),StructField(text,StringType,true)),true)"
        },
        {
         "key": "12",
         "name": "claim_reference",
         "type": "string"
        },
        {
         "key": "13",
         "name": "class_code",
         "type": "string"
        },
        {
         "key": "14",
         "name": "class_system",
         "type": "string"
        },
        {
         "key": "15",
         "name": "clinicalStatus_coding",
         "type": "ArrayType(StructType(StructField(code,StringType,true),StructField(system,StringType,true)),true)"
        },
        {
         "key": "16",
         "name": "code_coding",
         "type": "ArrayType(StructType(StructField(code,StringType,true),StructField(display,StringType,true),StructField(system,StringType,true)),true)"
        },
        {
         "key": "17",
         "name": "code_text",
         "type": "string"
        },
        {
         "key": "18",
         "name": "communication",
         "type": "ArrayType(StructType(StructField(language,StructType(StructField(coding,ArrayType(StructType(StructField(code,StringType,true),StructField(display,StringType,true),StructField(system,StringType,true)),true),true),StructField(text,StringType,true)),true)),true)"
        },
        {
         "key": "19",
         "name": "component",
         "type": "ArrayType(StructType(StructField(code,StructType(StructField(coding,ArrayType(StructType(StructField(code,StringType,true),StructField(display,StringType,true),StructField(system,StringType,true)),true),true),StructField(text,StringType,true)),true),StructField(valueCodeableConcept,StructType(StructField(coding,ArrayType(StructType(StructField(code,StringType,true),StructField(display,StringType,true),StructField(system,StringType,true)),true),true),StructField(text,StringType,true)),true),StructField(valueQuantity,StructType(StructField(code,StringType,true),StructField(system,StringType,true),StructField(unit,StringType,true),StructField(value,LongType,true)),true),StructField(valueString,StringType,true)),true)"
        },
        {
         "key": "20",
         "name": "contained",
         "type": "ArrayType(StructType(StructField(beneficiary,StructType(StructField(reference,StringType,true)),true),StructField(id,StringType,true),StructField(intent,StringType,true),StructField(payor,ArrayType(StructType(StructField(display,StringType,true)),true),true),StructField(performer,ArrayType(StructType(StructField(reference,StringType,true)),true),true),StructField(requester,StructType(StructField(reference,StringType,true)),true),StructField(resourceType,StringType,true),StructField(status,StringType,true),StructField(subject,StructType(StructField(reference,StringType,true)),true),StructField(type,StructType(StructField(text,StringType,true)),true)),true)"
        },
        {
         "key": "21",
         "name": "content",
         "type": "ArrayType(StructType(StructField(attachment,StructType(StructField(contentType,StringType,true),StructField(data,StringType,true)),true),StructField(format,StructType(StructField(code,StringType,true),StructField(display,StringType,true),StructField(system,StringType,true)),true)),true)"
        },
        {
         "key": "22",
         "name": "context_encounter",
         "type": "ArrayType(StructType(StructField(reference,StringType,true)),true)"
        },
        {
         "key": "23",
         "name": "context_period",
         "type": "StructType(StructField(end,StringType,true),StructField(start,StringType,true))"
        },
        {
         "key": "24",
         "name": "context_reference",
         "type": "string"
        },
        {
         "key": "25",
         "name": "created",
         "type": "string"
        },
        {
         "key": "26",
         "name": "custodian_display",
         "type": "string"
        },
        {
         "key": "27",
         "name": "custodian_reference",
         "type": "string"
        },
        {
         "key": "28",
         "name": "date",
         "type": "string"
        },
        {
         "key": "29",
         "name": "deviceName",
         "type": "ArrayType(StructType(StructField(name,StringType,true),StructField(type,StringType,true)),true)"
        },
        {
         "key": "30",
         "name": "diagnosis",
         "type": "ArrayType(StructType(StructField(diagnosisReference,StructType(StructField(reference,StringType,true)),true),StructField(sequence,LongType,true),StructField(type,ArrayType(StructType(StructField(coding,ArrayType(StructType(StructField(code,StringType,true),StructField(system,StringType,true)),true),true)),true),true)),true)"
        },
        {
         "key": "31",
         "name": "distinctIdentifier",
         "type": "string"
        },
        {
         "key": "32",
         "name": "dosageInstruction",
         "type": "ArrayType(StructType(StructField(asNeededBoolean,BooleanType,true),StructField(doseAndRate,ArrayType(StructType(StructField(doseQuantity,StructType(StructField(value,DoubleType,true)),true),StructField(type,StructType(StructField(coding,ArrayType(StructType(StructField(code,StringType,true),StructField(display,StringType,true),StructField(system,StringType,true)),true),true)),true)),true),true),StructField(sequence,LongType,true),StructField(text,StringType,true),StructField(timing,StructType(StructField(repeat,StructType(StructField(frequency,LongType,true),StructField(period,DoubleType,true),StructField(periodUnit,StringType,true)),true)),true)),true)"
        },
        {
         "key": "33",
         "name": "effectiveDateTime",
         "type": "string"
        },
        {
         "key": "34",
         "name": "encounter_reference",
         "type": "string"
        },
        {
         "key": "35",
         "name": "expirationDate",
         "type": "string"
        },
        {
         "key": "36",
         "name": "extension",
         "type": "ArrayType(StructType(StructField(extension,ArrayType(StructType(StructField(url,StringType,true),StructField(valueCoding,StructType(StructField(code,StringType,true),StructField(display,StringType,true),StructField(system,StringType,true)),true),StructField(valueString,StringType,true)),true),true),StructField(url,StringType,true),StructField(valueAddress,StructType(StructField(city,StringType,true),StructField(country,StringType,true),StructField(state,StringType,true)),true),StructField(valueCode,StringType,true),StructField(valueDecimal,DoubleType,true),StructField(valueString,StringType,true)),true)"
        },
        {
         "key": "37",
         "name": "facility_display",
         "type": "string"
        },
        {
         "key": "38",
         "name": "facility_reference",
         "type": "string"
        },
        {
         "key": "39",
         "name": "gender",
         "type": "string"
        },
        {
         "key": "40",
         "name": "hospitalization_dischargeDisposition",
         "type": "StructType(StructField(coding,ArrayType(StructType(StructField(code,StringType,true),StructField(display,StringType,true),StructField(system,StringType,true)),true),true),StructField(text,StringType,true))"
        },
        {
         "key": "41",
         "name": "id",
         "type": "string"
        },
        {
         "key": "42",
         "name": "identifier",
         "type": "ArrayType(StructType(StructField(system,StringType,true),StructField(type,StructType(StructField(coding,ArrayType(StructType(StructField(code,StringType,true),StructField(display,StringType,true),StructField(system,StringType,true)),true),true),StructField(text,StringType,true)),true),StructField(use,StringType,true),StructField(value,StringType,true)),true)"
        },
        {
         "key": "43",
         "name": "insurance",
         "type": "ArrayType(StructType(StructField(coverage,StructType(StructField(display,StringType,true),StructField(reference,StringType,true)),true),StructField(focal,BooleanType,true),StructField(sequence,LongType,true)),true)"
        },
        {
         "key": "44",
         "name": "insurer_display",
         "type": "string"
        },
        {
         "key": "45",
         "name": "intent",
         "type": "string"
        },
        {
         "key": "46",
         "name": "issued",
         "type": "string"
        },
        {
         "key": "47",
         "name": "item",
         "type": "ArrayType(StructType(StructField(adjudication,ArrayType(StructType(StructField(amount,StructType(StructField(currency,StringType,true),StructField(value,DoubleType,true)),true),StructField(category,StructType(StructField(coding,ArrayType(StructType(StructField(code,StringType,true),StructField(display,StringType,true),StructField(system,StringType,true)),true),true)),true)),true),true),StructField(category,StructType(StructField(coding,ArrayType(StructType(StructField(code,StringType,true),StructField(display,StringType,true),StructField(system,StringType,true)),true),true)),true),StructField(diagnosisSequence,ArrayType(LongType,true),true),StructField(encounter,ArrayType(StructType(StructField(reference,StringType,true)),true),true),StructField(informationSequence,ArrayType(LongType,true),true),StructField(locationCodeableConcept,StructType(StructField(coding,ArrayType(StructType(StructField(code,StringType,true),StructField(display,StringType,true),StructField(system,StringType,true)),true),true)),true),StructField(net,StructType(StructField(currency,StringType,true),StructField(value,DoubleType,true)),true),StructField(procedureSequence,ArrayType(LongType,true),true),StructField(productOrService,StructType(StructField(coding,ArrayType(StructType(StructField(code,StringType,true),StructField(display,StringType,true),StructField(system,StringType,true)),true),true),StructField(text,StringType,true)),true),StructField(sequence,LongType,true),StructField(servicedPeriod,StructType(StructField(end,StringType,true),StructField(start,StringType,true)),true)),true)"
        },
        {
         "key": "48",
         "name": "location",
         "type": "string"
        },
        {
         "key": "49",
         "name": "lotNumber",
         "type": "string"
        },
        {
         "key": "50",
         "name": "managingOrganization",
         "type": "ArrayType(StructType(StructField(display,StringType,true),StructField(reference,StringType,true)),true)"
        },
        {
         "key": "51",
         "name": "manufactureDate",
         "type": "string"
        },
        {
         "key": "52",
         "name": "maritalStatus_coding",
         "type": "ArrayType(StructType(StructField(code,StringType,true),StructField(display,StringType,true),StructField(system,StringType,true)),true)"
        },
        {
         "key": "53",
         "name": "maritalStatus_text",
         "type": "string"
        },
        {
         "key": "54",
         "name": "medicationCodeableConcept_coding",
         "type": "ArrayType(StructType(StructField(code,StringType,true),StructField(display,StringType,true),StructField(system,StringType,true)),true)"
        },
        {
         "key": "55",
         "name": "medicationCodeableConcept_text",
         "type": "string"
        },
        {
         "key": "56",
         "name": "medicationReference_reference",
         "type": "string"
        },
        {
         "key": "57",
         "name": "meta_profile",
         "type": "ArrayType(StringType,true)"
        },
        {
         "key": "58",
         "name": "multipleBirthBoolean",
         "type": "boolean"
        },
        {
         "key": "59",
         "name": "name",
         "type": "ArrayType(StructType(StructField(family,StringType,true),StructField(given,ArrayType(StringType,true),true),StructField(prefix,ArrayType(StringType,true),true),StructField(use,StringType,true)),true)"
        },
        {
         "key": "60",
         "name": "numberOfInstances",
         "type": "bigint"
        },
        {
         "key": "61",
         "name": "numberOfSeries",
         "type": "bigint"
        },
        {
         "key": "62",
         "name": "occurrenceDateTime",
         "type": "string"
        },
        {
         "key": "63",
         "name": "onsetDateTime",
         "type": "string"
        },
        {
         "key": "64",
         "name": "outcome",
         "type": "string"
        },
        {
         "key": "65",
         "name": "participant",
         "type": "ArrayType(StructType(StructField(individual,StructType(StructField(display,StringType,true),StructField(reference,StringType,true)),true),StructField(member,StructType(StructField(display,StringType,true),StructField(reference,StringType,true)),true),StructField(period,StructType(StructField(end,StringType,true),StructField(start,StringType,true)),true),StructField(role,ArrayType(StructType(StructField(coding,ArrayType(StructType(StructField(code,StringType,true),StructField(display,StringType,true),StructField(system,StringType,true)),true),true),StructField(text,StringType,true)),true),true),StructField(type,ArrayType(StructType(StructField(coding,ArrayType(StructType(StructField(code,StringType,true),StructField(display,StringType,true),StructField(system,StringType,true)),true),true),StructField(text,StringType,true)),true),true)),true)"
        },
        {
         "key": "66",
         "name": "patient_display",
         "type": "string"
        },
        {
         "key": "67",
         "name": "patient_reference",
         "type": "string"
        },
        {
         "key": "68",
         "name": "payment_amount",
         "type": "StructType(StructField(currency,StringType,true),StructField(value,DoubleType,true))"
        },
        {
         "key": "69",
         "name": "performedPeriod_end",
         "type": "string"
        },
        {
         "key": "70",
         "name": "performedPeriod_start",
         "type": "string"
        },
        {
         "key": "71",
         "name": "performer",
         "type": "ArrayType(StructType(StructField(display,StringType,true),StructField(reference,StringType,true)),true)"
        },
        {
         "key": "72",
         "name": "period_end",
         "type": "string"
        },
        {
         "key": "73",
         "name": "period_start",
         "type": "string"
        },
        {
         "key": "74",
         "name": "prescription_reference",
         "type": "string"
        },
        {
         "key": "75",
         "name": "presentedForm",
         "type": "ArrayType(StructType(StructField(contentType,StringType,true),StructField(data,StringType,true)),true)"
        },
        {
         "key": "76",
         "name": "primarySource",
         "type": "boolean"
        },
        {
         "key": "77",
         "name": "priority_coding",
         "type": "ArrayType(StructType(StructField(code,StringType,true),StructField(system,StringType,true)),true)"
        },
        {
         "key": "78",
         "name": "procedure",
         "type": "ArrayType(StructType(StructField(procedureReference,StructType(StructField(reference,StringType,true)),true),StructField(sequence,LongType,true)),true)"
        },
        {
         "key": "79",
         "name": "procedureCode",
         "type": "ArrayType(StructType(StructField(coding,ArrayType(StructType(StructField(code,StringType,true),StructField(display,StringType,true),StructField(system,StringType,true)),true),true),StructField(text,StringType,true)),true)"
        },
        {
         "key": "80",
         "name": "provider_display",
         "type": "string"
        },
        {
         "key": "81",
         "name": "provider_reference",
         "type": "string"
        },
        {
         "key": "82",
         "name": "reasonCode",
         "type": "ArrayType(StructType(StructField(coding,ArrayType(StructType(StructField(code,StringType,true),StructField(display,StringType,true),StructField(system,StringType,true)),true),true),StructField(text,StringType,true)),true)"
        },
        {
         "key": "83",
         "name": "reasonReference",
         "type": "ArrayType(StructType(StructField(display,StringType,true),StructField(reference,StringType,true)),true)"
        },
        {
         "key": "84",
         "name": "recorded",
         "type": "string"
        },
        {
         "key": "85",
         "name": "recordedDate",
         "type": "string"
        },
        {
         "key": "86",
         "name": "referral_reference",
         "type": "string"
        },
        {
         "key": "87",
         "name": "requester_display",
         "type": "string"
        },
        {
         "key": "88",
         "name": "requester_reference",
         "type": "string"
        },
        {
         "key": "89",
         "name": "resourceType",
         "type": "string"
        },
        {
         "key": "90",
         "name": "result",
         "type": "ArrayType(StructType(StructField(display,StringType,true),StructField(reference,StringType,true)),true)"
        },
        {
         "key": "91",
         "name": "serialNumber",
         "type": "string"
        },
        {
         "key": "92",
         "name": "series",
         "type": "ArrayType(StructType(StructField(bodySite,StructType(StructField(code,StringType,true),StructField(display,StringType,true),StructField(system,StringType,true)),true),StructField(instance,ArrayType(StructType(StructField(number,LongType,true),StructField(sopClass,StructType(StructField(code,StringType,true),StructField(system,StringType,true)),true),StructField(title,StringType,true),StructField(uid,StringType,true)),true),true),StructField(modality,StructType(StructField(code,StringType,true),StructField(display,StringType,true),StructField(system,StringType,true)),true),StructField(number,LongType,true),StructField(numberOfInstances,LongType,true),StructField(started,StringType,true),StructField(uid,StringType,true)),true)"
        },
        {
         "key": "93",
         "name": "serviceProvider_display",
         "type": "string"
        },
        {
         "key": "94",
         "name": "serviceProvider_reference",
         "type": "string"
        },
        {
         "key": "95",
         "name": "started",
         "type": "string"
        },
        {
         "key": "96",
         "name": "status",
         "type": "string"
        },
        {
         "key": "97",
         "name": "subject_display",
         "type": "string"
        },
        {
         "key": "98",
         "name": "subject_reference",
         "type": "string"
        },
        {
         "key": "99",
         "name": "suppliedItem_itemCodeableConcept",
         "type": "StructType(StructField(coding,ArrayType(StructType(StructField(code,StringType,true),StructField(display,StringType,true),StructField(system,StringType,true)),true),true),StructField(text,StringType,true))"
        },
        {
         "key": "100",
         "name": "suppliedItem_quantity",
         "type": "StructType(StructField(value,LongType,true))"
        },
        {
         "key": "101",
         "name": "supportingInfo",
         "type": "ArrayType(StructType(StructField(category,StructType(StructField(coding,ArrayType(StructType(StructField(code,StringType,true),StructField(system,StringType,true)),true),true)),true),StructField(sequence,LongType,true),StructField(valueReference,StructType(StructField(reference,StringType,true)),true)),true)"
        },
        {
         "key": "102",
         "name": "target",
         "type": "ArrayType(StructType(StructField(reference,StringType,true)),true)"
        },
        {
         "key": "103",
         "name": "telecom",
         "type": "ArrayType(StructType(StructField(system,StringType,true),StructField(use,StringType,true),StructField(value,StringType,true)),true)"
        },
        {
         "key": "104",
         "name": "text_div",
         "type": "string"
        },
        {
         "key": "105",
         "name": "text_status",
         "type": "string"
        },
        {
         "key": "106",
         "name": "total",
         "type": "string"
        },
        {
         "key": "107",
         "name": "type",
         "type": "string"
        },
        {
         "key": "108",
         "name": "udiCarrier",
         "type": "ArrayType(StructType(StructField(carrierHRF,StringType,true),StructField(deviceIdentifier,StringType,true)),true)"
        },
        {
         "key": "109",
         "name": "use",
         "type": "string"
        },
        {
         "key": "110",
         "name": "vaccineCode_coding",
         "type": "ArrayType(StructType(StructField(code,StringType,true),StructField(display,StringType,true),StructField(system,StringType,true)),true)"
        },
        {
         "key": "111",
         "name": "vaccineCode_text",
         "type": "string"
        },
        {
         "key": "112",
         "name": "valueCodeableConcept_coding",
         "type": "ArrayType(StructType(StructField(code,StringType,true),StructField(display,StringType,true),StructField(system,StringType,true)),true)"
        },
        {
         "key": "113",
         "name": "valueCodeableConcept_text",
         "type": "string"
        },
        {
         "key": "114",
         "name": "valueQuantity_code",
         "type": "string"
        },
        {
         "key": "115",
         "name": "valueQuantity_system",
         "type": "string"
        },
        {
         "key": "116",
         "name": "valueQuantity_unit",
         "type": "string"
        },
        {
         "key": "117",
         "name": "valueQuantity_value",
         "type": "double"
        },
        {
         "key": "118",
         "name": "verificationStatus_coding",
         "type": "ArrayType(StructType(StructField(code,StringType,true),StructField(system,StringType,true)),true)"
        }
       ],
       "truncated": false
      },
      "wranglerEntryContext": {
       "dataframeType": "pyspark"
      }
     },
     "type": "Synapse.DataFrame"
    },
    "4406665f-80f2-430a-aa74-d4cbe359676d": {
     "persist_state": {
      "view": {
       "chartOptions": {
        "aggregationType": "count",
        "binsNumber": 10,
        "categoryFieldKeys": [
         "8"
        ],
        "chartType": "line",
        "evaluatesOverAllRecords": false,
        "isStacked": false,
        "seriesFieldKeys": [
         "0"
        ],
        "wordFrequency": "-1"
       },
       "tableOptions": {},
       "type": "details",
       "viewOptionsGroup": [
        {
         "tabItems": [
          {
           "key": "0",
           "name": "Table",
           "options": {},
           "type": "table"
          }
         ]
        }
       ]
      }
     },
     "sync_state": {
      "isSummary": false,
      "language": "scala",
      "table": {
       "rows": [
        {
         "2": [
          {
           "city": "Charlton",
           "country": "US",
           "extension": [
            {
             "extension": [
              {
               "url": "latitude",
               "valueDecimal": 42.132457104115716
              },
              {
               "url": "longitude",
               "valueDecimal": -72.00729222685227
              }
             ],
             "url": "http://hl7.org/fhir/StructureDefinition/geolocation"
            }
           ],
           "line": [
            "1030 Stehr Tunnel Apt 45"
           ],
           "postalCode": "00000",
           "state": "MA"
          }
         ],
         "8": "1935-12-09",
         "15": [
          {
           "language": {
            "coding": [
             {
              "code": "en-US",
              "display": "English (United States)",
              "system": "urn:ietf:bcp:47"
             }
            ],
            "text": "English (United States)"
           }
          }
         ],
         "30": [
          {
           "extension": [
            {
             "url": "ombCategory",
             "valueCoding": {
              "code": "2106-3",
              "display": "White",
              "system": "urn:oid:2.16.840.1.113883.6.238"
             }
            },
            {
             "url": "text",
             "valueString": "White"
            }
           ],
           "url": "http://hl7.org/fhir/us/core/StructureDefinition/us-core-race"
          },
          {
           "extension": [
            {
             "url": "ombCategory",
             "valueCoding": {
              "code": "2186-5",
              "display": "Not Hispanic or Latino",
              "system": "urn:oid:2.16.840.1.113883.6.238"
             }
            },
            {
             "url": "text",
             "valueString": "Not Hispanic or Latino"
            }
           ],
           "url": "http://hl7.org/fhir/us/core/StructureDefinition/us-core-ethnicity"
          },
          {
           "url": "http://hl7.org/fhir/StructureDefinition/patient-mothersMaidenName",
           "valueString": "France571 Cremin516"
          },
          {
           "url": "http://hl7.org/fhir/us/core/StructureDefinition/us-core-birthsex",
           "valueCode": "F"
          },
          {
           "url": "http://hl7.org/fhir/StructureDefinition/patient-birthPlace",
           "valueAddress": {
            "city": "Wilbraham",
            "country": "US",
            "state": "Massachusetts"
           }
          },
          {
           "url": "http://synthetichealth.github.io/synthea/disability-adjusted-life-years",
           "valueDecimal": 27.91679564493305
          },
          {
           "url": "http://synthetichealth.github.io/synthea/quality-adjusted-life-years",
           "valueDecimal": 59.083204355066954
          }
         ],
         "32": "female",
         "34": "92334595-e571-c56a-2a26-2853bab79def",
         "35": [
          {
           "system": "https://github.com/synthetichealth/synthea",
           "value": "92334595-e571-c56a-2a26-2853bab79def"
          },
          {
           "system": "http://hospital.smarthealthit.org",
           "type": {
            "coding": [
             {
              "code": "MR",
              "display": "Medical Record Number",
              "system": "http://terminology.hl7.org/CodeSystem/v2-0203"
             }
            ],
            "text": "Medical Record Number"
           },
           "value": "92334595-e571-c56a-2a26-2853bab79def"
          },
          {
           "system": "http://hl7.org/fhir/sid/us-ssn",
           "type": {
            "coding": [
             {
              "code": "SS",
              "display": "Social Security Number",
              "system": "http://terminology.hl7.org/CodeSystem/v2-0203"
             }
            ],
            "text": "Social Security Number"
           },
           "value": "999-68-6070"
          },
          {
           "system": "urn:oid:2.16.840.1.113883.4.3.25",
           "type": {
            "coding": [
             {
              "code": "DL",
              "display": "Driver's license number",
              "system": "http://terminology.hl7.org/CodeSystem/v2-0203"
             }
            ],
            "text": "Driver's license number"
           },
           "value": "S99968740"
          },
          {
           "system": "http://standardhealthrecord.org/fhir/StructureDefinition/passportNumber",
           "type": {
            "coding": [
             {
              "code": "PPN",
              "display": "Passport Number",
              "system": "http://terminology.hl7.org/CodeSystem/v2-0203"
             }
            ],
            "text": "Passport Number"
           },
           "value": "X58389279X"
          }
         ],
         "45": {
          "coding": [
           {
            "code": "M",
            "display": "Married",
            "system": "http://terminology.hl7.org/CodeSystem/v3-MaritalStatus"
           }
          ],
          "text": "Married"
         },
         "48": {
          "profile": [
           "http://hl7.org/fhir/us/core/StructureDefinition/us-core-patient"
          ]
         },
         "49": "false",
         "50": [
          {
           "family": "Marks830",
           "given": [
            "Zoraida650",
            "Latashia561"
           ],
           "prefix": [
            "Mrs."
           ],
           "use": "official"
          },
          {
           "family": "Hartmann983",
           "given": [
            "Zoraida650",
            "Latashia561"
           ],
           "prefix": [
            "Mrs."
           ],
           "use": "maiden"
          }
         ],
         "75": "Patient",
         "86": [
          {
           "system": "phone",
           "use": "home",
           "value": "555-320-7304"
          }
         ],
         "87": {
          "div": "<div xmlns=\"http://www.w3.org/1999/xhtml\">Generated by <a href=\"https://github.com/synthetichealth/synthea\">Synthea</a>.Version identifier: 188ce63\n .   Person seed: -6624127831976242326  Population seed: 1687380550931</div>",
          "status": "generated"
         }
        },
        {
         "12": {
          "code": "EMER",
          "system": "http://terminology.hl7.org/CodeSystem/v3-ActCode"
         },
         "33": {
          "dischargeDisposition": {
           "coding": [
            {
             "code": "01",
             "display": "Discharged to home care or self care (routine discharge)",
             "system": "http://www.nubc.org/patient-discharge"
            }
           ],
           "text": "Discharged to home care or self care (routine discharge)"
          }
         },
         "34": "903618a8-4786-8bcd-9530-df25a099d8c2",
         "35": [
          {
           "system": "https://github.com/synthetichealth/synthea",
           "use": "official",
           "value": "903618a8-4786-8bcd-9530-df25a099d8c2"
          }
         ],
         "41": "[{\"location\":{\"reference\":\"Location?identifier=https://github.com/synthetichealth/synthea|3d6f958a-1d16-3cdd-97f6-a7fc9d5d5418\",\"display\":\"OVERLOOK MASONIC HEALTH CENTER\"}}]",
         "48": {
          "profile": [
           "http://hl7.org/fhir/us/core/StructureDefinition/us-core-encounter"
          ]
         },
         "56": [
          {
           "individual": {
            "display": "Dr. Lyndon118 Trantow673",
            "reference": "Practitioner?identifier=http://hl7.org/fhir/sid/us-npi|9999900696"
           },
           "period": {
            "end": "1935-12-27T13:29:58+00:00",
            "start": "1935-12-27T11:16:04+00:00"
           },
           "type": [
            {
             "coding": [
              {
               "code": "PPRF",
               "display": "primary performer",
               "system": "http://terminology.hl7.org/CodeSystem/v3-ParticipationType"
              }
             ],
             "text": "primary performer"
            }
           ]
          }
         ],
         "61": {
          "end": "1935-12-27T13:29:58+00:00",
          "start": "1935-12-27T11:16:04+00:00"
         },
         "69": [
          {
           "coding": [
            {
             "code": "128613002",
             "display": "Seizure disorder",
             "system": "http://snomed.info/sct"
            }
           ]
          }
         ],
         "75": "Encounter",
         "79": {
          "display": "OVERLOOK MASONIC HEALTH CENTER",
          "reference": "Organization?identifier=https://github.com/synthetichealth/synthea|0d7fd824-1c7b-3f8b-a662-f6c2005e82e1"
         },
         "81": "finished",
         "82": {
          "display": "Mrs. Zoraida650 Latashia561 Marks830",
          "reference": "urn:uuid:92334595-e571-c56a-2a26-2853bab79def"
         },
         "89": "[{\"coding\":[{\"system\":\"http://snomed.info/sct\",\"code\":\"50849002\",\"display\":\"Emergency room admission (procedure)\"}],\"text\":\"Emergency room admission (procedure)\"}]"
        },
        {
         "10": [
          {
           "coding": [
            {
             "code": "encounter-diagnosis",
             "display": "Encounter Diagnosis",
             "system": "http://terminology.hl7.org/CodeSystem/condition-category"
            }
           ]
          }
         ],
         "13": {
          "coding": [
           {
            "code": "active",
            "system": "http://terminology.hl7.org/CodeSystem/condition-clinical"
           }
          ]
         },
         "14": {
          "coding": [
           {
            "code": "128613002",
            "display": "Seizure disorder",
            "system": "http://snomed.info/sct"
           }
          ],
          "text": "Seizure disorder"
         },
         "28": {
          "reference": "urn:uuid:903618a8-4786-8bcd-9530-df25a099d8c2"
         },
         "34": "64d3c3a7-8a0b-3df4-7de0-ca8167efa89e",
         "48": {
          "profile": [
           "http://hl7.org/fhir/us/core/StructureDefinition/us-core-condition-encounter-diagnosis"
          ]
         },
         "54": "1935-12-27T11:16:04+00:00",
         "72": "1935-12-27T11:16:04+00:00",
         "75": "Condition",
         "82": {
          "reference": "urn:uuid:92334595-e571-c56a-2a26-2853bab79def"
         },
         "95": {
          "coding": [
           {
            "code": "confirmed",
            "system": "http://terminology.hl7.org/CodeSystem/condition-ver-status"
           }
          ]
         }
        },
        {
         "10": [
          {
           "coding": [
            {
             "code": "encounter-diagnosis",
             "display": "Encounter Diagnosis",
             "system": "http://terminology.hl7.org/CodeSystem/condition-category"
            }
           ]
          }
         ],
         "13": {
          "coding": [
           {
            "code": "active",
            "system": "http://terminology.hl7.org/CodeSystem/condition-clinical"
           }
          ]
         },
         "14": {
          "coding": [
           {
            "code": "703151001",
            "display": "History of single seizure (situation)",
            "system": "http://snomed.info/sct"
           }
          ],
          "text": "History of single seizure (situation)"
         },
         "28": {
          "reference": "urn:uuid:903618a8-4786-8bcd-9530-df25a099d8c2"
         },
         "34": "f8404e44-16b2-9025-75f1-905695325aa2",
         "48": {
          "profile": [
           "http://hl7.org/fhir/us/core/StructureDefinition/us-core-condition-encounter-diagnosis"
          ]
         },
         "54": "1935-12-27T11:16:04+00:00",
         "72": "1935-12-27T11:16:04+00:00",
         "75": "Condition",
         "82": {
          "reference": "urn:uuid:92334595-e571-c56a-2a26-2853bab79def"
         },
         "95": {
          "coding": [
           {
            "code": "confirmed",
            "system": "http://terminology.hl7.org/CodeSystem/condition-ver-status"
           }
          ]
         }
        },
        {
         "10": [
          {
           "coding": [
            {
             "code": "34117-2",
             "display": "History and physical note",
             "system": "http://loinc.org"
            },
            {
             "code": "51847-2",
             "display": "Evaluation + Plan note",
             "system": "http://loinc.org"
            }
           ]
          }
         ],
         "14": {
          "coding": [
           {
            "code": "34117-2",
            "display": "History and physical note",
            "system": "http://loinc.org"
           },
           {
            "code": "51847-2",
            "display": "Evaluation + Plan note",
            "system": "http://loinc.org"
           }
          ]
         },
         "27": "1935-12-27T11:16:04+00:00",
         "28": {
          "reference": "urn:uuid:903618a8-4786-8bcd-9530-df25a099d8c2"
         },
         "34": "174e7a30-6de0-363f-c38a-08f9c39f1051",
         "39": "1935-12-27T11:16:04.459+00:00",
         "48": {
          "profile": [
           "http://hl7.org/fhir/us/core/StructureDefinition/us-core-diagnosticreport-note"
          ]
         },
         "60": [
          {
           "display": "Dr. Lyndon118 Trantow673",
           "reference": "Practitioner?identifier=http://hl7.org/fhir/sid/us-npi|9999900696"
          }
         ],
         "63": [
          {
           "contentType": "text/plain; charset=utf-8",
           "data": "CjE5MzUtMTItMjcKCiMgQ2hpZWYgQ29tcGxhaW50Ci0gVGhpcnN0Ci0gRmF0aWd1ZQotIEZyZXF1ZW50IFVyaW5hdGlvbgoKCiMgSGlzdG9yeSBvZiBQcmVzZW50IElsbG5lc3MKWm9yYWlkYTY1MCBMYXRhc2hpYTU2MQogaXMgYSBuZXdib3JuIG5vbmhpc3BhbmljIHdoaXRlIGZlbWFsZS4KCiMgU29jaWFsIEhpc3RvcnkKIFBhdGllbnQgaGFzIG5ldmVyIHNtb2tlZC4KCgpQYXRpZW50IGNvbWVzIGZyb20gYSBtaWRkbGUgc29jaW9lY29ub21pYyBiYWNrZ3JvdW5kLgoKUGF0aWVudCBjdXJyZW50bHkgaGFzIEh1bWFuYS4KCiMgQWxsZXJnaWVzCk5vIEtub3duIEFsbGVyZ2llcy4KCiMgTWVkaWNhdGlvbnMKTm8gQWN0aXZlIE1lZGljYXRpb25zLgoKIyBBc3Nlc3NtZW50IGFuZCBQbGFuClBhdGllbnQgaXMgcHJlc2VudGluZyB3aXRoIHNlaXp1cmUgZGlzb3JkZXIsIGhpc3Rvcnkgb2Ygc2luZ2xlIHNlaXp1cmUgKHNpdHVhdGlvbikuIAoKIyMgUGxhbgoK"
          }
         ],
         "75": "DiagnosticReport",
         "81": "final",
         "82": {
          "reference": "urn:uuid:92334595-e571-c56a-2a26-2853bab79def"
         }
        }
       ],
       "schema": [
        {
         "key": "0",
         "name": "abatementDateTime",
         "type": "string"
        },
        {
         "key": "1",
         "name": "activity",
         "type": "ArrayType(StructType(StructField(detail,StructType(StructField(code,StructType(StructField(coding,ArrayType(StructType(StructField(code,StringType,true),StructField(display,StringType,true),StructField(system,StringType,true)),true),true),StructField(text,StringType,true)),true),StructField(location,StructType(StructField(display,StringType,true)),true),StructField(reasonReference,ArrayType(StructType(StructField(reference,StringType,true)),true),true),StructField(status,StringType,true)),true)),true)"
        },
        {
         "key": "2",
         "name": "address",
         "type": "ArrayType(StructType(StructField(city,StringType,true),StructField(country,StringType,true),StructField(extension,ArrayType(StructType(StructField(extension,ArrayType(StructType(StructField(url,StringType,true),StructField(valueDecimal,DoubleType,true)),true),true),StructField(url,StringType,true)),true),true),StructField(line,ArrayType(StringType,true),true),StructField(postalCode,StringType,true),StructField(state,StringType,true)),true)"
        },
        {
         "key": "3",
         "name": "addresses",
         "type": "ArrayType(StructType(StructField(reference,StringType,true)),true)"
        },
        {
         "key": "4",
         "name": "agent",
         "type": "ArrayType(StructType(StructField(onBehalfOf,StructType(StructField(display,StringType,true),StructField(reference,StringType,true)),true),StructField(type,StructType(StructField(coding,ArrayType(StructType(StructField(code,StringType,true),StructField(display,StringType,true),StructField(system,StringType,true)),true),true),StructField(text,StringType,true)),true),StructField(who,StructType(StructField(display,StringType,true),StructField(reference,StringType,true)),true)),true)"
        },
        {
         "key": "5",
         "name": "author",
         "type": "ArrayType(StructType(StructField(display,StringType,true),StructField(reference,StringType,true)),true)"
        },
        {
         "key": "6",
         "name": "authoredOn",
         "type": "string"
        },
        {
         "key": "7",
         "name": "billablePeriod",
         "type": "StructType(StructField(end,StringType,true),StructField(start,StringType,true))"
        },
        {
         "key": "8",
         "name": "birthDate",
         "type": "string"
        },
        {
         "key": "9",
         "name": "careTeam",
         "type": "ArrayType(StructType(StructField(provider,StructType(StructField(reference,StringType,true)),true),StructField(reference,StringType,true),StructField(role,StructType(StructField(coding,ArrayType(StructType(StructField(code,StringType,true),StructField(display,StringType,true),StructField(system,StringType,true)),true),true)),true),StructField(sequence,LongType,true)),true)"
        },
        {
         "key": "10",
         "name": "category",
         "type": "ArrayType(StructType(StructField(coding,ArrayType(StructType(StructField(code,StringType,true),StructField(display,StringType,true),StructField(system,StringType,true)),true),true),StructField(text,StringType,true)),true)"
        },
        {
         "key": "11",
         "name": "claim",
         "type": "StructType(StructField(reference,StringType,true))"
        },
        {
         "key": "12",
         "name": "class",
         "type": "StructType(StructField(code,StringType,true),StructField(system,StringType,true))"
        },
        {
         "key": "13",
         "name": "clinicalStatus",
         "type": "StructType(StructField(coding,ArrayType(StructType(StructField(code,StringType,true),StructField(system,StringType,true)),true),true))"
        },
        {
         "key": "14",
         "name": "code",
         "type": "StructType(StructField(coding,ArrayType(StructType(StructField(code,StringType,true),StructField(display,StringType,true),StructField(system,StringType,true)),true),true),StructField(text,StringType,true))"
        },
        {
         "key": "15",
         "name": "communication",
         "type": "ArrayType(StructType(StructField(language,StructType(StructField(coding,ArrayType(StructType(StructField(code,StringType,true),StructField(display,StringType,true),StructField(system,StringType,true)),true),true),StructField(text,StringType,true)),true)),true)"
        },
        {
         "key": "16",
         "name": "component",
         "type": "ArrayType(StructType(StructField(code,StructType(StructField(coding,ArrayType(StructType(StructField(code,StringType,true),StructField(display,StringType,true),StructField(system,StringType,true)),true),true),StructField(text,StringType,true)),true),StructField(valueCodeableConcept,StructType(StructField(coding,ArrayType(StructType(StructField(code,StringType,true),StructField(display,StringType,true),StructField(system,StringType,true)),true),true),StructField(text,StringType,true)),true),StructField(valueQuantity,StructType(StructField(code,StringType,true),StructField(system,StringType,true),StructField(unit,StringType,true),StructField(value,LongType,true)),true),StructField(valueString,StringType,true)),true)"
        },
        {
         "key": "17",
         "name": "contained",
         "type": "ArrayType(StructType(StructField(beneficiary,StructType(StructField(reference,StringType,true)),true),StructField(id,StringType,true),StructField(intent,StringType,true),StructField(payor,ArrayType(StructType(StructField(display,StringType,true)),true),true),StructField(performer,ArrayType(StructType(StructField(reference,StringType,true)),true),true),StructField(requester,StructType(StructField(reference,StringType,true)),true),StructField(resourceType,StringType,true),StructField(status,StringType,true),StructField(subject,StructType(StructField(reference,StringType,true)),true),StructField(type,StructType(StructField(text,StringType,true)),true)),true)"
        },
        {
         "key": "18",
         "name": "content",
         "type": "ArrayType(StructType(StructField(attachment,StructType(StructField(contentType,StringType,true),StructField(data,StringType,true)),true),StructField(format,StructType(StructField(code,StringType,true),StructField(display,StringType,true),StructField(system,StringType,true)),true)),true)"
        },
        {
         "key": "19",
         "name": "context",
         "type": "StructType(StructField(encounter,ArrayType(StructType(StructField(reference,StringType,true)),true),true),StructField(period,StructType(StructField(end,StringType,true),StructField(start,StringType,true)),true),StructField(reference,StringType,true))"
        },
        {
         "key": "20",
         "name": "created",
         "type": "string"
        },
        {
         "key": "21",
         "name": "custodian",
         "type": "StructType(StructField(display,StringType,true),StructField(reference,StringType,true))"
        },
        {
         "key": "22",
         "name": "date",
         "type": "string"
        },
        {
         "key": "23",
         "name": "deviceName",
         "type": "ArrayType(StructType(StructField(name,StringType,true),StructField(type,StringType,true)),true)"
        },
        {
         "key": "24",
         "name": "diagnosis",
         "type": "ArrayType(StructType(StructField(diagnosisReference,StructType(StructField(reference,StringType,true)),true),StructField(sequence,LongType,true),StructField(type,ArrayType(StructType(StructField(coding,ArrayType(StructType(StructField(code,StringType,true),StructField(system,StringType,true)),true),true)),true),true)),true)"
        },
        {
         "key": "25",
         "name": "distinctIdentifier",
         "type": "string"
        },
        {
         "key": "26",
         "name": "dosageInstruction",
         "type": "ArrayType(StructType(StructField(asNeededBoolean,BooleanType,true),StructField(doseAndRate,ArrayType(StructType(StructField(doseQuantity,StructType(StructField(value,DoubleType,true)),true),StructField(type,StructType(StructField(coding,ArrayType(StructType(StructField(code,StringType,true),StructField(display,StringType,true),StructField(system,StringType,true)),true),true)),true)),true),true),StructField(sequence,LongType,true),StructField(text,StringType,true),StructField(timing,StructType(StructField(repeat,StructType(StructField(frequency,LongType,true),StructField(period,DoubleType,true),StructField(periodUnit,StringType,true)),true)),true)),true)"
        },
        {
         "key": "27",
         "name": "effectiveDateTime",
         "type": "string"
        },
        {
         "key": "28",
         "name": "encounter",
         "type": "StructType(StructField(reference,StringType,true))"
        },
        {
         "key": "29",
         "name": "expirationDate",
         "type": "string"
        },
        {
         "key": "30",
         "name": "extension",
         "type": "ArrayType(StructType(StructField(extension,ArrayType(StructType(StructField(url,StringType,true),StructField(valueCoding,StructType(StructField(code,StringType,true),StructField(display,StringType,true),StructField(system,StringType,true)),true),StructField(valueString,StringType,true)),true),true),StructField(url,StringType,true),StructField(valueAddress,StructType(StructField(city,StringType,true),StructField(country,StringType,true),StructField(state,StringType,true)),true),StructField(valueCode,StringType,true),StructField(valueDecimal,DoubleType,true),StructField(valueString,StringType,true)),true)"
        },
        {
         "key": "31",
         "name": "facility",
         "type": "StructType(StructField(display,StringType,true),StructField(reference,StringType,true))"
        },
        {
         "key": "32",
         "name": "gender",
         "type": "string"
        },
        {
         "key": "33",
         "name": "hospitalization",
         "type": "StructType(StructField(dischargeDisposition,StructType(StructField(coding,ArrayType(StructType(StructField(code,StringType,true),StructField(display,StringType,true),StructField(system,StringType,true)),true),true),StructField(text,StringType,true)),true))"
        },
        {
         "key": "34",
         "name": "id",
         "type": "string"
        },
        {
         "key": "35",
         "name": "identifier",
         "type": "ArrayType(StructType(StructField(system,StringType,true),StructField(type,StructType(StructField(coding,ArrayType(StructType(StructField(code,StringType,true),StructField(display,StringType,true),StructField(system,StringType,true)),true),true),StructField(text,StringType,true)),true),StructField(use,StringType,true),StructField(value,StringType,true)),true)"
        },
        {
         "key": "36",
         "name": "insurance",
         "type": "ArrayType(StructType(StructField(coverage,StructType(StructField(display,StringType,true),StructField(reference,StringType,true)),true),StructField(focal,BooleanType,true),StructField(sequence,LongType,true)),true)"
        },
        {
         "key": "37",
         "name": "insurer",
         "type": "StructType(StructField(display,StringType,true))"
        },
        {
         "key": "38",
         "name": "intent",
         "type": "string"
        },
        {
         "key": "39",
         "name": "issued",
         "type": "string"
        },
        {
         "key": "40",
         "name": "item",
         "type": "ArrayType(StructType(StructField(adjudication,ArrayType(StructType(StructField(amount,StructType(StructField(currency,StringType,true),StructField(value,DoubleType,true)),true),StructField(category,StructType(StructField(coding,ArrayType(StructType(StructField(code,StringType,true),StructField(display,StringType,true),StructField(system,StringType,true)),true),true)),true)),true),true),StructField(category,StructType(StructField(coding,ArrayType(StructType(StructField(code,StringType,true),StructField(display,StringType,true),StructField(system,StringType,true)),true),true)),true),StructField(diagnosisSequence,ArrayType(LongType,true),true),StructField(encounter,ArrayType(StructType(StructField(reference,StringType,true)),true),true),StructField(informationSequence,ArrayType(LongType,true),true),StructField(locationCodeableConcept,StructType(StructField(coding,ArrayType(StructType(StructField(code,StringType,true),StructField(display,StringType,true),StructField(system,StringType,true)),true),true)),true),StructField(net,StructType(StructField(currency,StringType,true),StructField(value,DoubleType,true)),true),StructField(procedureSequence,ArrayType(LongType,true),true),StructField(productOrService,StructType(StructField(coding,ArrayType(StructType(StructField(code,StringType,true),StructField(display,StringType,true),StructField(system,StringType,true)),true),true),StructField(text,StringType,true)),true),StructField(sequence,LongType,true),StructField(servicedPeriod,StructType(StructField(end,StringType,true),StructField(start,StringType,true)),true)),true)"
        },
        {
         "key": "41",
         "name": "location",
         "type": "string"
        },
        {
         "key": "42",
         "name": "lotNumber",
         "type": "string"
        },
        {
         "key": "43",
         "name": "managingOrganization",
         "type": "ArrayType(StructType(StructField(display,StringType,true),StructField(reference,StringType,true)),true)"
        },
        {
         "key": "44",
         "name": "manufactureDate",
         "type": "string"
        },
        {
         "key": "45",
         "name": "maritalStatus",
         "type": "StructType(StructField(coding,ArrayType(StructType(StructField(code,StringType,true),StructField(display,StringType,true),StructField(system,StringType,true)),true),true),StructField(text,StringType,true))"
        },
        {
         "key": "46",
         "name": "medicationCodeableConcept",
         "type": "StructType(StructField(coding,ArrayType(StructType(StructField(code,StringType,true),StructField(display,StringType,true),StructField(system,StringType,true)),true),true),StructField(text,StringType,true))"
        },
        {
         "key": "47",
         "name": "medicationReference",
         "type": "StructType(StructField(reference,StringType,true))"
        },
        {
         "key": "48",
         "name": "meta",
         "type": "StructType(StructField(profile,ArrayType(StringType,true),true))"
        },
        {
         "key": "49",
         "name": "multipleBirthBoolean",
         "type": "boolean"
        },
        {
         "key": "50",
         "name": "name",
         "type": "ArrayType(StructType(StructField(family,StringType,true),StructField(given,ArrayType(StringType,true),true),StructField(prefix,ArrayType(StringType,true),true),StructField(use,StringType,true)),true)"
        },
        {
         "key": "51",
         "name": "numberOfInstances",
         "type": "bigint"
        },
        {
         "key": "52",
         "name": "numberOfSeries",
         "type": "bigint"
        },
        {
         "key": "53",
         "name": "occurrenceDateTime",
         "type": "string"
        },
        {
         "key": "54",
         "name": "onsetDateTime",
         "type": "string"
        },
        {
         "key": "55",
         "name": "outcome",
         "type": "string"
        },
        {
         "key": "56",
         "name": "participant",
         "type": "ArrayType(StructType(StructField(individual,StructType(StructField(display,StringType,true),StructField(reference,StringType,true)),true),StructField(member,StructType(StructField(display,StringType,true),StructField(reference,StringType,true)),true),StructField(period,StructType(StructField(end,StringType,true),StructField(start,StringType,true)),true),StructField(role,ArrayType(StructType(StructField(coding,ArrayType(StructType(StructField(code,StringType,true),StructField(display,StringType,true),StructField(system,StringType,true)),true),true),StructField(text,StringType,true)),true),true),StructField(type,ArrayType(StructType(StructField(coding,ArrayType(StructType(StructField(code,StringType,true),StructField(display,StringType,true),StructField(system,StringType,true)),true),true),StructField(text,StringType,true)),true),true)),true)"
        },
        {
         "key": "57",
         "name": "patient",
         "type": "StructType(StructField(display,StringType,true),StructField(reference,StringType,true))"
        },
        {
         "key": "58",
         "name": "payment",
         "type": "StructType(StructField(amount,StructType(StructField(currency,StringType,true),StructField(value,DoubleType,true)),true))"
        },
        {
         "key": "59",
         "name": "performedPeriod",
         "type": "StructType(StructField(end,StringType,true),StructField(start,StringType,true))"
        },
        {
         "key": "60",
         "name": "performer",
         "type": "ArrayType(StructType(StructField(display,StringType,true),StructField(reference,StringType,true)),true)"
        },
        {
         "key": "61",
         "name": "period",
         "type": "StructType(StructField(end,StringType,true),StructField(start,StringType,true))"
        },
        {
         "key": "62",
         "name": "prescription",
         "type": "StructType(StructField(reference,StringType,true))"
        },
        {
         "key": "63",
         "name": "presentedForm",
         "type": "ArrayType(StructType(StructField(contentType,StringType,true),StructField(data,StringType,true)),true)"
        },
        {
         "key": "64",
         "name": "primarySource",
         "type": "boolean"
        },
        {
         "key": "65",
         "name": "priority",
         "type": "StructType(StructField(coding,ArrayType(StructType(StructField(code,StringType,true),StructField(system,StringType,true)),true),true))"
        },
        {
         "key": "66",
         "name": "procedure",
         "type": "ArrayType(StructType(StructField(procedureReference,StructType(StructField(reference,StringType,true)),true),StructField(sequence,LongType,true)),true)"
        },
        {
         "key": "67",
         "name": "procedureCode",
         "type": "ArrayType(StructType(StructField(coding,ArrayType(StructType(StructField(code,StringType,true),StructField(display,StringType,true),StructField(system,StringType,true)),true),true),StructField(text,StringType,true)),true)"
        },
        {
         "key": "68",
         "name": "provider",
         "type": "StructType(StructField(display,StringType,true),StructField(reference,StringType,true))"
        },
        {
         "key": "69",
         "name": "reasonCode",
         "type": "ArrayType(StructType(StructField(coding,ArrayType(StructType(StructField(code,StringType,true),StructField(display,StringType,true),StructField(system,StringType,true)),true),true),StructField(text,StringType,true)),true)"
        },
        {
         "key": "70",
         "name": "reasonReference",
         "type": "ArrayType(StructType(StructField(display,StringType,true),StructField(reference,StringType,true)),true)"
        },
        {
         "key": "71",
         "name": "recorded",
         "type": "string"
        },
        {
         "key": "72",
         "name": "recordedDate",
         "type": "string"
        },
        {
         "key": "73",
         "name": "referral",
         "type": "StructType(StructField(reference,StringType,true))"
        },
        {
         "key": "74",
         "name": "requester",
         "type": "StructType(StructField(display,StringType,true),StructField(reference,StringType,true))"
        },
        {
         "key": "75",
         "name": "resourceType",
         "type": "string"
        },
        {
         "key": "76",
         "name": "result",
         "type": "ArrayType(StructType(StructField(display,StringType,true),StructField(reference,StringType,true)),true)"
        },
        {
         "key": "77",
         "name": "serialNumber",
         "type": "string"
        },
        {
         "key": "78",
         "name": "series",
         "type": "ArrayType(StructType(StructField(bodySite,StructType(StructField(code,StringType,true),StructField(display,StringType,true),StructField(system,StringType,true)),true),StructField(instance,ArrayType(StructType(StructField(number,LongType,true),StructField(sopClass,StructType(StructField(code,StringType,true),StructField(system,StringType,true)),true),StructField(title,StringType,true),StructField(uid,StringType,true)),true),true),StructField(modality,StructType(StructField(code,StringType,true),StructField(display,StringType,true),StructField(system,StringType,true)),true),StructField(number,LongType,true),StructField(numberOfInstances,LongType,true),StructField(started,StringType,true),StructField(uid,StringType,true)),true)"
        },
        {
         "key": "79",
         "name": "serviceProvider",
         "type": "StructType(StructField(display,StringType,true),StructField(reference,StringType,true))"
        },
        {
         "key": "80",
         "name": "started",
         "type": "string"
        },
        {
         "key": "81",
         "name": "status",
         "type": "string"
        },
        {
         "key": "82",
         "name": "subject",
         "type": "StructType(StructField(display,StringType,true),StructField(reference,StringType,true))"
        },
        {
         "key": "83",
         "name": "suppliedItem",
         "type": "StructType(StructField(itemCodeableConcept,StructType(StructField(coding,ArrayType(StructType(StructField(code,StringType,true),StructField(display,StringType,true),StructField(system,StringType,true)),true),true),StructField(text,StringType,true)),true),StructField(quantity,StructType(StructField(value,LongType,true)),true))"
        },
        {
         "key": "84",
         "name": "supportingInfo",
         "type": "ArrayType(StructType(StructField(category,StructType(StructField(coding,ArrayType(StructType(StructField(code,StringType,true),StructField(system,StringType,true)),true),true)),true),StructField(sequence,LongType,true),StructField(valueReference,StructType(StructField(reference,StringType,true)),true)),true)"
        },
        {
         "key": "85",
         "name": "target",
         "type": "ArrayType(StructType(StructField(reference,StringType,true)),true)"
        },
        {
         "key": "86",
         "name": "telecom",
         "type": "ArrayType(StructType(StructField(system,StringType,true),StructField(use,StringType,true),StructField(value,StringType,true)),true)"
        },
        {
         "key": "87",
         "name": "text",
         "type": "StructType(StructField(div,StringType,true),StructField(status,StringType,true))"
        },
        {
         "key": "88",
         "name": "total",
         "type": "string"
        },
        {
         "key": "89",
         "name": "type",
         "type": "string"
        },
        {
         "key": "90",
         "name": "udiCarrier",
         "type": "ArrayType(StructType(StructField(carrierHRF,StringType,true),StructField(deviceIdentifier,StringType,true)),true)"
        },
        {
         "key": "91",
         "name": "use",
         "type": "string"
        },
        {
         "key": "92",
         "name": "vaccineCode",
         "type": "StructType(StructField(coding,ArrayType(StructType(StructField(code,StringType,true),StructField(display,StringType,true),StructField(system,StringType,true)),true),true),StructField(text,StringType,true))"
        },
        {
         "key": "93",
         "name": "valueCodeableConcept",
         "type": "StructType(StructField(coding,ArrayType(StructType(StructField(code,StringType,true),StructField(display,StringType,true),StructField(system,StringType,true)),true),true),StructField(text,StringType,true))"
        },
        {
         "key": "94",
         "name": "valueQuantity",
         "type": "StructType(StructField(code,StringType,true),StructField(system,StringType,true),StructField(unit,StringType,true),StructField(value,DoubleType,true))"
        },
        {
         "key": "95",
         "name": "verificationStatus",
         "type": "StructType(StructField(coding,ArrayType(StructType(StructField(code,StringType,true),StructField(system,StringType,true)),true),true))"
        }
       ],
       "truncated": false
      },
      "wranglerEntryContext": {
       "dataframeType": "pyspark"
      }
     },
     "type": "Synapse.DataFrame"
    },
    "910569fd-3175-4410-855c-c5f09a311457": {
     "persist_state": {
      "view": {
       "chartOptions": {
        "aggregationType": "count",
        "binsNumber": 10,
        "categoryFieldKeys": [
         "0"
        ],
        "chartType": "line",
        "evaluatesOverAllRecords": false,
        "isStacked": false,
        "seriesFieldKeys": [
         "0"
        ],
        "wordFrequency": "-1"
       },
       "tableOptions": {},
       "type": "details",
       "viewOptionsGroup": [
        {
         "tabItems": [
          {
           "key": "0",
           "name": "Table",
           "options": {},
           "type": "table"
          }
         ]
        }
       ]
      }
     },
     "sync_state": {
      "isSummary": false,
      "language": "scala",
      "table": {
       "rows": [
        {
         "2": [
          {
           "city": "Charlton",
           "country": "US",
           "extension": [
            {
             "extension": [
              {
               "url": "latitude",
               "valueDecimal": 42.132457104115716
              },
              {
               "url": "longitude",
               "valueDecimal": -72.00729222685227
              }
             ],
             "url": "http://hl7.org/fhir/StructureDefinition/geolocation"
            }
           ],
           "line": [
            "1030 Stehr Tunnel Apt 45"
           ],
           "postalCode": "00000",
           "state": "MA"
          }
         ],
         "9": "1935-12-09",
         "18": [
          {
           "language": {
            "coding": [
             {
              "code": "en-US",
              "display": "English (United States)",
              "system": "urn:ietf:bcp:47"
             }
            ],
            "text": "English (United States)"
           }
          }
         ],
         "37": [
          {
           "extension": [
            {
             "url": "ombCategory",
             "valueCoding": {
              "code": "2106-3",
              "display": "White",
              "system": "urn:oid:2.16.840.1.113883.6.238"
             }
            },
            {
             "url": "text",
             "valueString": "White"
            }
           ],
           "url": "http://hl7.org/fhir/us/core/StructureDefinition/us-core-race"
          },
          {
           "extension": [
            {
             "url": "ombCategory",
             "valueCoding": {
              "code": "2186-5",
              "display": "Not Hispanic or Latino",
              "system": "urn:oid:2.16.840.1.113883.6.238"
             }
            },
            {
             "url": "text",
             "valueString": "Not Hispanic or Latino"
            }
           ],
           "url": "http://hl7.org/fhir/us/core/StructureDefinition/us-core-ethnicity"
          },
          {
           "url": "http://hl7.org/fhir/StructureDefinition/patient-mothersMaidenName",
           "valueString": "France571 Cremin516"
          },
          {
           "url": "http://hl7.org/fhir/us/core/StructureDefinition/us-core-birthsex",
           "valueCode": "F"
          },
          {
           "url": "http://hl7.org/fhir/StructureDefinition/patient-birthPlace",
           "valueAddress": {
            "city": "Wilbraham",
            "country": "US",
            "state": "Massachusetts"
           }
          },
          {
           "url": "http://synthetichealth.github.io/synthea/disability-adjusted-life-years",
           "valueDecimal": 27.91679564493305
          },
          {
           "url": "http://synthetichealth.github.io/synthea/quality-adjusted-life-years",
           "valueDecimal": 59.083204355066954
          }
         ],
         "40": "female",
         "43": "92334595-e571-c56a-2a26-2853bab79def",
         "44": [
          {
           "system": "https://github.com/synthetichealth/synthea",
           "value": "92334595-e571-c56a-2a26-2853bab79def"
          },
          {
           "system": "http://hospital.smarthealthit.org",
           "type": {
            "coding": [
             {
              "code": "MR",
              "display": "Medical Record Number",
              "system": "http://terminology.hl7.org/CodeSystem/v2-0203"
             }
            ],
            "text": "Medical Record Number"
           },
           "value": "92334595-e571-c56a-2a26-2853bab79def"
          },
          {
           "system": "http://hl7.org/fhir/sid/us-ssn",
           "type": {
            "coding": [
             {
              "code": "SS",
              "display": "Social Security Number",
              "system": "http://terminology.hl7.org/CodeSystem/v2-0203"
             }
            ],
            "text": "Social Security Number"
           },
           "value": "999-68-6070"
          },
          {
           "system": "urn:oid:2.16.840.1.113883.4.3.25",
           "type": {
            "coding": [
             {
              "code": "DL",
              "display": "Driver's license number",
              "system": "http://terminology.hl7.org/CodeSystem/v2-0203"
             }
            ],
            "text": "Driver's license number"
           },
           "value": "S99968740"
          },
          {
           "system": "http://standardhealthrecord.org/fhir/StructureDefinition/passportNumber",
           "type": {
            "coding": [
             {
              "code": "PPN",
              "display": "Passport Number",
              "system": "http://terminology.hl7.org/CodeSystem/v2-0203"
             }
            ],
            "text": "Passport Number"
           },
           "value": "X58389279X"
          }
         ],
         "54": [
          {
           "code": "M",
           "display": "Married",
           "system": "http://terminology.hl7.org/CodeSystem/v3-MaritalStatus"
          }
         ],
         "55": "Married",
         "59": [
          "http://hl7.org/fhir/us/core/StructureDefinition/us-core-patient"
         ],
         "60": "false",
         "61": [
          {
           "family": "Marks830",
           "given": [
            "Zoraida650",
            "Latashia561"
           ],
           "prefix": [
            "Mrs."
           ],
           "use": "official"
          },
          {
           "family": "Hartmann983",
           "given": [
            "Zoraida650",
            "Latashia561"
           ],
           "prefix": [
            "Mrs."
           ],
           "use": "maiden"
          }
         ],
         "92": "Patient",
         "107": [
          {
           "system": "phone",
           "use": "home",
           "value": "555-320-7304"
          }
         ],
         "108": "<div xmlns=\"http://www.w3.org/1999/xhtml\">Generated by <a href=\"https://github.com/synthetichealth/synthea\">Synthea</a>.Version identifier: 188ce63\n .   Person seed: -6624127831976242326  Population seed: 1687380550931</div>",
         "109": "generated",
         "123": "2025-02-23 17:33:52.379561"
        }
       ],
       "schema": [
        {
         "key": "0",
         "name": "abatementDateTime",
         "type": "string"
        },
        {
         "key": "1",
         "name": "activity",
         "type": "ArrayType(StructType(StructField(detail,StructType(StructField(code,StructType(StructField(coding,ArrayType(StructType(StructField(code,StringType,true),StructField(display,StringType,true),StructField(system,StringType,true)),true),true),StructField(text,StringType,true)),true),StructField(location,StructType(StructField(display,StringType,true)),true),StructField(reasonReference,ArrayType(StructType(StructField(reference,StringType,true)),true),true),StructField(status,StringType,true)),true)),true)"
        },
        {
         "key": "2",
         "name": "address",
         "type": "ArrayType(StructType(StructField(city,StringType,true),StructField(country,StringType,true),StructField(extension,ArrayType(StructType(StructField(extension,ArrayType(StructType(StructField(url,StringType,true),StructField(valueDecimal,DoubleType,true)),true),true),StructField(url,StringType,true)),true),true),StructField(line,ArrayType(StringType,true),true),StructField(postalCode,StringType,true),StructField(state,StringType,true)),true)"
        },
        {
         "key": "3",
         "name": "addresses",
         "type": "ArrayType(StructType(StructField(reference,StringType,true)),true)"
        },
        {
         "key": "4",
         "name": "agent",
         "type": "ArrayType(StructType(StructField(onBehalfOf,StructType(StructField(display,StringType,true),StructField(reference,StringType,true)),true),StructField(type,StructType(StructField(coding,ArrayType(StructType(StructField(code,StringType,true),StructField(display,StringType,true),StructField(system,StringType,true)),true),true),StructField(text,StringType,true)),true),StructField(who,StructType(StructField(display,StringType,true),StructField(reference,StringType,true)),true)),true)"
        },
        {
         "key": "5",
         "name": "author",
         "type": "ArrayType(StructType(StructField(display,StringType,true),StructField(reference,StringType,true)),true)"
        },
        {
         "key": "6",
         "name": "authoredOn",
         "type": "string"
        },
        {
         "key": "7",
         "name": "billablePeriod_end",
         "type": "string"
        },
        {
         "key": "8",
         "name": "billablePeriod_start",
         "type": "string"
        },
        {
         "key": "9",
         "name": "birthDate",
         "type": "string"
        },
        {
         "key": "10",
         "name": "careTeam",
         "type": "ArrayType(StructType(StructField(provider,StructType(StructField(reference,StringType,true)),true),StructField(reference,StringType,true),StructField(role,StructType(StructField(coding,ArrayType(StructType(StructField(code,StringType,true),StructField(display,StringType,true),StructField(system,StringType,true)),true),true)),true),StructField(sequence,LongType,true)),true)"
        },
        {
         "key": "11",
         "name": "category",
         "type": "ArrayType(StructType(StructField(coding,ArrayType(StructType(StructField(code,StringType,true),StructField(display,StringType,true),StructField(system,StringType,true)),true),true),StructField(text,StringType,true)),true)"
        },
        {
         "key": "12",
         "name": "claim_reference",
         "type": "string"
        },
        {
         "key": "13",
         "name": "class_code",
         "type": "string"
        },
        {
         "key": "14",
         "name": "class_system",
         "type": "string"
        },
        {
         "key": "15",
         "name": "clinicalStatus_coding",
         "type": "ArrayType(StructType(StructField(code,StringType,true),StructField(system,StringType,true)),true)"
        },
        {
         "key": "16",
         "name": "code_coding",
         "type": "ArrayType(StructType(StructField(code,StringType,true),StructField(display,StringType,true),StructField(system,StringType,true)),true)"
        },
        {
         "key": "17",
         "name": "code_text",
         "type": "string"
        },
        {
         "key": "18",
         "name": "communication",
         "type": "ArrayType(StructType(StructField(language,StructType(StructField(coding,ArrayType(StructType(StructField(code,StringType,true),StructField(display,StringType,true),StructField(system,StringType,true)),true),true),StructField(text,StringType,true)),true)),true)"
        },
        {
         "key": "19",
         "name": "component",
         "type": "ArrayType(StructType(StructField(code,StructType(StructField(coding,ArrayType(StructType(StructField(code,StringType,true),StructField(display,StringType,true),StructField(system,StringType,true)),true),true),StructField(text,StringType,true)),true),StructField(valueCodeableConcept,StructType(StructField(coding,ArrayType(StructType(StructField(code,StringType,true),StructField(display,StringType,true),StructField(system,StringType,true)),true),true),StructField(text,StringType,true)),true),StructField(valueQuantity,StructType(StructField(code,StringType,true),StructField(system,StringType,true),StructField(unit,StringType,true),StructField(value,LongType,true)),true),StructField(valueString,StringType,true)),true)"
        },
        {
         "key": "20",
         "name": "contained",
         "type": "ArrayType(StructType(StructField(beneficiary,StructType(StructField(reference,StringType,true)),true),StructField(id,StringType,true),StructField(intent,StringType,true),StructField(payor,ArrayType(StructType(StructField(display,StringType,true)),true),true),StructField(performer,ArrayType(StructType(StructField(reference,StringType,true)),true),true),StructField(requester,StructType(StructField(reference,StringType,true)),true),StructField(resourceType,StringType,true),StructField(status,StringType,true),StructField(subject,StructType(StructField(reference,StringType,true)),true),StructField(type,StructType(StructField(text,StringType,true)),true)),true)"
        },
        {
         "key": "21",
         "name": "content",
         "type": "ArrayType(StructType(StructField(attachment,StructType(StructField(contentType,StringType,true),StructField(data,StringType,true)),true),StructField(format,StructType(StructField(code,StringType,true),StructField(display,StringType,true),StructField(system,StringType,true)),true)),true)"
        },
        {
         "key": "22",
         "name": "context_encounter",
         "type": "ArrayType(StructType(StructField(reference,StringType,true)),true)"
        },
        {
         "key": "23",
         "name": "context_period_end",
         "type": "string"
        },
        {
         "key": "24",
         "name": "context_period_start",
         "type": "string"
        },
        {
         "key": "25",
         "name": "context_reference",
         "type": "string"
        },
        {
         "key": "26",
         "name": "created",
         "type": "string"
        },
        {
         "key": "27",
         "name": "custodian_display",
         "type": "string"
        },
        {
         "key": "28",
         "name": "custodian_reference",
         "type": "string"
        },
        {
         "key": "29",
         "name": "date",
         "type": "string"
        },
        {
         "key": "30",
         "name": "deviceName",
         "type": "ArrayType(StructType(StructField(name,StringType,true),StructField(type,StringType,true)),true)"
        },
        {
         "key": "31",
         "name": "diagnosis",
         "type": "ArrayType(StructType(StructField(diagnosisReference,StructType(StructField(reference,StringType,true)),true),StructField(sequence,LongType,true),StructField(type,ArrayType(StructType(StructField(coding,ArrayType(StructType(StructField(code,StringType,true),StructField(system,StringType,true)),true),true)),true),true)),true)"
        },
        {
         "key": "32",
         "name": "distinctIdentifier",
         "type": "string"
        },
        {
         "key": "33",
         "name": "dosageInstruction",
         "type": "ArrayType(StructType(StructField(asNeededBoolean,BooleanType,true),StructField(doseAndRate,ArrayType(StructType(StructField(doseQuantity,StructType(StructField(value,DoubleType,true)),true),StructField(type,StructType(StructField(coding,ArrayType(StructType(StructField(code,StringType,true),StructField(display,StringType,true),StructField(system,StringType,true)),true),true)),true)),true),true),StructField(sequence,LongType,true),StructField(text,StringType,true),StructField(timing,StructType(StructField(repeat,StructType(StructField(frequency,LongType,true),StructField(period,DoubleType,true),StructField(periodUnit,StringType,true)),true)),true)),true)"
        },
        {
         "key": "34",
         "name": "effectiveDateTime",
         "type": "string"
        },
        {
         "key": "35",
         "name": "encounter_reference",
         "type": "string"
        },
        {
         "key": "36",
         "name": "expirationDate",
         "type": "string"
        },
        {
         "key": "37",
         "name": "extension",
         "type": "ArrayType(StructType(StructField(extension,ArrayType(StructType(StructField(url,StringType,true),StructField(valueCoding,StructType(StructField(code,StringType,true),StructField(display,StringType,true),StructField(system,StringType,true)),true),StructField(valueString,StringType,true)),true),true),StructField(url,StringType,true),StructField(valueAddress,StructType(StructField(city,StringType,true),StructField(country,StringType,true),StructField(state,StringType,true)),true),StructField(valueCode,StringType,true),StructField(valueDecimal,DoubleType,true),StructField(valueString,StringType,true)),true)"
        },
        {
         "key": "38",
         "name": "facility_display",
         "type": "string"
        },
        {
         "key": "39",
         "name": "facility_reference",
         "type": "string"
        },
        {
         "key": "40",
         "name": "gender",
         "type": "string"
        },
        {
         "key": "41",
         "name": "hospitalization_dischargeDisposition_coding",
         "type": "ArrayType(StructType(StructField(code,StringType,true),StructField(display,StringType,true),StructField(system,StringType,true)),true)"
        },
        {
         "key": "42",
         "name": "hospitalization_dischargeDisposition_text",
         "type": "string"
        },
        {
         "key": "43",
         "name": "id",
         "type": "string"
        },
        {
         "key": "44",
         "name": "identifier",
         "type": "ArrayType(StructType(StructField(system,StringType,true),StructField(type,StructType(StructField(coding,ArrayType(StructType(StructField(code,StringType,true),StructField(display,StringType,true),StructField(system,StringType,true)),true),true),StructField(text,StringType,true)),true),StructField(use,StringType,true),StructField(value,StringType,true)),true)"
        },
        {
         "key": "45",
         "name": "insurance",
         "type": "ArrayType(StructType(StructField(coverage,StructType(StructField(display,StringType,true),StructField(reference,StringType,true)),true),StructField(focal,BooleanType,true),StructField(sequence,LongType,true)),true)"
        },
        {
         "key": "46",
         "name": "insurer_display",
         "type": "string"
        },
        {
         "key": "47",
         "name": "intent",
         "type": "string"
        },
        {
         "key": "48",
         "name": "issued",
         "type": "string"
        },
        {
         "key": "49",
         "name": "item",
         "type": "ArrayType(StructType(StructField(adjudication,ArrayType(StructType(StructField(amount,StructType(StructField(currency,StringType,true),StructField(value,DoubleType,true)),true),StructField(category,StructType(StructField(coding,ArrayType(StructType(StructField(code,StringType,true),StructField(display,StringType,true),StructField(system,StringType,true)),true),true)),true)),true),true),StructField(category,StructType(StructField(coding,ArrayType(StructType(StructField(code,StringType,true),StructField(display,StringType,true),StructField(system,StringType,true)),true),true)),true),StructField(diagnosisSequence,ArrayType(LongType,true),true),StructField(encounter,ArrayType(StructType(StructField(reference,StringType,true)),true),true),StructField(informationSequence,ArrayType(LongType,true),true),StructField(locationCodeableConcept,StructType(StructField(coding,ArrayType(StructType(StructField(code,StringType,true),StructField(display,StringType,true),StructField(system,StringType,true)),true),true)),true),StructField(net,StructType(StructField(currency,StringType,true),StructField(value,DoubleType,true)),true),StructField(procedureSequence,ArrayType(LongType,true),true),StructField(productOrService,StructType(StructField(coding,ArrayType(StructType(StructField(code,StringType,true),StructField(display,StringType,true),StructField(system,StringType,true)),true),true),StructField(text,StringType,true)),true),StructField(sequence,LongType,true),StructField(servicedPeriod,StructType(StructField(end,StringType,true),StructField(start,StringType,true)),true)),true)"
        },
        {
         "key": "50",
         "name": "location",
         "type": "string"
        },
        {
         "key": "51",
         "name": "lotNumber",
         "type": "string"
        },
        {
         "key": "52",
         "name": "managingOrganization",
         "type": "ArrayType(StructType(StructField(display,StringType,true),StructField(reference,StringType,true)),true)"
        },
        {
         "key": "53",
         "name": "manufactureDate",
         "type": "string"
        },
        {
         "key": "54",
         "name": "maritalStatus_coding",
         "type": "ArrayType(StructType(StructField(code,StringType,true),StructField(display,StringType,true),StructField(system,StringType,true)),true)"
        },
        {
         "key": "55",
         "name": "maritalStatus_text",
         "type": "string"
        },
        {
         "key": "56",
         "name": "medicationCodeableConcept_coding",
         "type": "ArrayType(StructType(StructField(code,StringType,true),StructField(display,StringType,true),StructField(system,StringType,true)),true)"
        },
        {
         "key": "57",
         "name": "medicationCodeableConcept_text",
         "type": "string"
        },
        {
         "key": "58",
         "name": "medicationReference_reference",
         "type": "string"
        },
        {
         "key": "59",
         "name": "meta_profile",
         "type": "ArrayType(StringType,true)"
        },
        {
         "key": "60",
         "name": "multipleBirthBoolean",
         "type": "boolean"
        },
        {
         "key": "61",
         "name": "name",
         "type": "ArrayType(StructType(StructField(family,StringType,true),StructField(given,ArrayType(StringType,true),true),StructField(prefix,ArrayType(StringType,true),true),StructField(use,StringType,true)),true)"
        },
        {
         "key": "62",
         "name": "numberOfInstances",
         "type": "bigint"
        },
        {
         "key": "63",
         "name": "numberOfSeries",
         "type": "bigint"
        },
        {
         "key": "64",
         "name": "occurrenceDateTime",
         "type": "string"
        },
        {
         "key": "65",
         "name": "onsetDateTime",
         "type": "string"
        },
        {
         "key": "66",
         "name": "outcome",
         "type": "string"
        },
        {
         "key": "67",
         "name": "participant",
         "type": "ArrayType(StructType(StructField(individual,StructType(StructField(display,StringType,true),StructField(reference,StringType,true)),true),StructField(member,StructType(StructField(display,StringType,true),StructField(reference,StringType,true)),true),StructField(period,StructType(StructField(end,StringType,true),StructField(start,StringType,true)),true),StructField(role,ArrayType(StructType(StructField(coding,ArrayType(StructType(StructField(code,StringType,true),StructField(display,StringType,true),StructField(system,StringType,true)),true),true),StructField(text,StringType,true)),true),true),StructField(type,ArrayType(StructType(StructField(coding,ArrayType(StructType(StructField(code,StringType,true),StructField(display,StringType,true),StructField(system,StringType,true)),true),true),StructField(text,StringType,true)),true),true)),true)"
        },
        {
         "key": "68",
         "name": "patient_display",
         "type": "string"
        },
        {
         "key": "69",
         "name": "patient_reference",
         "type": "string"
        },
        {
         "key": "70",
         "name": "payment_amount_currency",
         "type": "string"
        },
        {
         "key": "71",
         "name": "payment_amount_value",
         "type": "double"
        },
        {
         "key": "72",
         "name": "performedPeriod_end",
         "type": "string"
        },
        {
         "key": "73",
         "name": "performedPeriod_start",
         "type": "string"
        },
        {
         "key": "74",
         "name": "performer",
         "type": "ArrayType(StructType(StructField(display,StringType,true),StructField(reference,StringType,true)),true)"
        },
        {
         "key": "75",
         "name": "period_end",
         "type": "string"
        },
        {
         "key": "76",
         "name": "period_start",
         "type": "string"
        },
        {
         "key": "77",
         "name": "prescription_reference",
         "type": "string"
        },
        {
         "key": "78",
         "name": "presentedForm",
         "type": "ArrayType(StructType(StructField(contentType,StringType,true),StructField(data,StringType,true)),true)"
        },
        {
         "key": "79",
         "name": "primarySource",
         "type": "boolean"
        },
        {
         "key": "80",
         "name": "priority_coding",
         "type": "ArrayType(StructType(StructField(code,StringType,true),StructField(system,StringType,true)),true)"
        },
        {
         "key": "81",
         "name": "procedure",
         "type": "ArrayType(StructType(StructField(procedureReference,StructType(StructField(reference,StringType,true)),true),StructField(sequence,LongType,true)),true)"
        },
        {
         "key": "82",
         "name": "procedureCode",
         "type": "ArrayType(StructType(StructField(coding,ArrayType(StructType(StructField(code,StringType,true),StructField(display,StringType,true),StructField(system,StringType,true)),true),true),StructField(text,StringType,true)),true)"
        },
        {
         "key": "83",
         "name": "provider_display",
         "type": "string"
        },
        {
         "key": "84",
         "name": "provider_reference",
         "type": "string"
        },
        {
         "key": "85",
         "name": "reasonCode",
         "type": "ArrayType(StructType(StructField(coding,ArrayType(StructType(StructField(code,StringType,true),StructField(display,StringType,true),StructField(system,StringType,true)),true),true),StructField(text,StringType,true)),true)"
        },
        {
         "key": "86",
         "name": "reasonReference",
         "type": "ArrayType(StructType(StructField(display,StringType,true),StructField(reference,StringType,true)),true)"
        },
        {
         "key": "87",
         "name": "recorded",
         "type": "string"
        },
        {
         "key": "88",
         "name": "recordedDate",
         "type": "string"
        },
        {
         "key": "89",
         "name": "referral_reference",
         "type": "string"
        },
        {
         "key": "90",
         "name": "requester_display",
         "type": "string"
        },
        {
         "key": "91",
         "name": "requester_reference",
         "type": "string"
        },
        {
         "key": "92",
         "name": "resourceType",
         "type": "string"
        },
        {
         "key": "93",
         "name": "result",
         "type": "ArrayType(StructType(StructField(display,StringType,true),StructField(reference,StringType,true)),true)"
        },
        {
         "key": "94",
         "name": "serialNumber",
         "type": "string"
        },
        {
         "key": "95",
         "name": "series",
         "type": "ArrayType(StructType(StructField(bodySite,StructType(StructField(code,StringType,true),StructField(display,StringType,true),StructField(system,StringType,true)),true),StructField(instance,ArrayType(StructType(StructField(number,LongType,true),StructField(sopClass,StructType(StructField(code,StringType,true),StructField(system,StringType,true)),true),StructField(title,StringType,true),StructField(uid,StringType,true)),true),true),StructField(modality,StructType(StructField(code,StringType,true),StructField(display,StringType,true),StructField(system,StringType,true)),true),StructField(number,LongType,true),StructField(numberOfInstances,LongType,true),StructField(started,StringType,true),StructField(uid,StringType,true)),true)"
        },
        {
         "key": "96",
         "name": "serviceProvider_display",
         "type": "string"
        },
        {
         "key": "97",
         "name": "serviceProvider_reference",
         "type": "string"
        },
        {
         "key": "98",
         "name": "started",
         "type": "string"
        },
        {
         "key": "99",
         "name": "status",
         "type": "string"
        },
        {
         "key": "100",
         "name": "subject_display",
         "type": "string"
        },
        {
         "key": "101",
         "name": "subject_reference",
         "type": "string"
        },
        {
         "key": "102",
         "name": "suppliedItem_itemCodeableConcept_coding",
         "type": "ArrayType(StructType(StructField(code,StringType,true),StructField(display,StringType,true),StructField(system,StringType,true)),true)"
        },
        {
         "key": "103",
         "name": "suppliedItem_itemCodeableConcept_text",
         "type": "string"
        },
        {
         "key": "104",
         "name": "suppliedItem_quantity_value",
         "type": "bigint"
        },
        {
         "key": "105",
         "name": "supportingInfo",
         "type": "ArrayType(StructType(StructField(category,StructType(StructField(coding,ArrayType(StructType(StructField(code,StringType,true),StructField(system,StringType,true)),true),true)),true),StructField(sequence,LongType,true),StructField(valueReference,StructType(StructField(reference,StringType,true)),true)),true)"
        },
        {
         "key": "106",
         "name": "target",
         "type": "ArrayType(StructType(StructField(reference,StringType,true)),true)"
        },
        {
         "key": "107",
         "name": "telecom",
         "type": "ArrayType(StructType(StructField(system,StringType,true),StructField(use,StringType,true),StructField(value,StringType,true)),true)"
        },
        {
         "key": "108",
         "name": "text_div",
         "type": "string"
        },
        {
         "key": "109",
         "name": "text_status",
         "type": "string"
        },
        {
         "key": "110",
         "name": "total",
         "type": "string"
        },
        {
         "key": "111",
         "name": "type",
         "type": "string"
        },
        {
         "key": "112",
         "name": "udiCarrier",
         "type": "ArrayType(StructType(StructField(carrierHRF,StringType,true),StructField(deviceIdentifier,StringType,true)),true)"
        },
        {
         "key": "113",
         "name": "use",
         "type": "string"
        },
        {
         "key": "114",
         "name": "vaccineCode_coding",
         "type": "ArrayType(StructType(StructField(code,StringType,true),StructField(display,StringType,true),StructField(system,StringType,true)),true)"
        },
        {
         "key": "115",
         "name": "vaccineCode_text",
         "type": "string"
        },
        {
         "key": "116",
         "name": "valueCodeableConcept_coding",
         "type": "ArrayType(StructType(StructField(code,StringType,true),StructField(display,StringType,true),StructField(system,StringType,true)),true)"
        },
        {
         "key": "117",
         "name": "valueCodeableConcept_text",
         "type": "string"
        },
        {
         "key": "118",
         "name": "valueQuantity_code",
         "type": "string"
        },
        {
         "key": "119",
         "name": "valueQuantity_system",
         "type": "string"
        },
        {
         "key": "120",
         "name": "valueQuantity_unit",
         "type": "string"
        },
        {
         "key": "121",
         "name": "valueQuantity_value",
         "type": "double"
        },
        {
         "key": "122",
         "name": "verificationStatus_coding",
         "type": "ArrayType(StructType(StructField(code,StringType,true),StructField(system,StringType,true)),true)"
        },
        {
         "key": "123",
         "name": "update_date",
         "type": "timestamp"
        }
       ],
       "truncated": false
      },
      "wranglerEntryContext": {
       "dataframeType": "pyspark"
      }
     },
     "type": "Synapse.DataFrame"
    }
   },
   "version": "0.1"
  }
 },
 "nbformat": 4,
 "nbformat_minor": 5
}
