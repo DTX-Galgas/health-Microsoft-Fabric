{
 "cells": [
  {
   "cell_type": "code",
   "execution_count": 5,
   "id": "8cf9e6fc-6782-4418-a667-aed26f27472e",
   "metadata": {
    "microsoft": {
     "language": "python",
     "language_group": "synapse_pyspark"
    }
   },
   "outputs": [
    {
     "data": {
      "application/vnd.livy.statement-meta+json": {
       "execution_finish_time": "2025-02-23T20:43:38.4408893Z",
       "execution_start_time": "2025-02-23T20:43:26.0847147Z",
       "livy_statement_state": "available",
       "normalized_state": "finished",
       "parent_msg_id": "140d5bed-19cd-4249-b975-11a987c718d5",
       "queued_time": "2025-02-23T20:43:25.9419122Z",
       "session_id": "672164c8-86ff-4130-9853-f9a52b91acdb",
       "session_start_time": null,
       "spark_pool": null,
       "state": "finished",
       "statement_id": 7,
       "statement_ids": [
        7
       ]
      },
      "text/plain": [
       "StatementMeta(, 672164c8-86ff-4130-9853-f9a52b91acdb, 7, Finished, Available, Finished)"
      ]
     },
     "metadata": {},
     "output_type": "display_data"
    },
    {
     "name": "stdout",
     "output_type": "stream",
     "text": [
      "Collecting azure.eventhub\n",
      "  Downloading azure_eventhub-5.14.0-py3-none-any.whl.metadata (70 kB)\n",
      "\u001b[2K     \u001b[90m━━━━━━━━━━━━━━━━━━━━━━━━━━━━━━━━━━━━━━━━\u001b[0m \u001b[32m70.6/70.6 kB\u001b[0m \u001b[31m1.7 MB/s\u001b[0m eta \u001b[36m0:00:00\u001b[0ma \u001b[36m0:00:01\u001b[0m\n",
      "\u001b[?25hRequirement already satisfied: azure-core>=1.27.0 in /home/trusted-service-user/cluster-env/trident_env/lib/python3.11/site-packages (from azure.eventhub) (1.30.2)\n",
      "Requirement already satisfied: typing-extensions>=4.0.1 in /home/trusted-service-user/cluster-env/trident_env/lib/python3.11/site-packages (from azure.eventhub) (4.9.0)\n",
      "Requirement already satisfied: requests>=2.21.0 in /home/trusted-service-user/cluster-env/trident_env/lib/python3.11/site-packages (from azure-core>=1.27.0->azure.eventhub) (2.31.0)\n",
      "Requirement already satisfied: six>=1.11.0 in /home/trusted-service-user/cluster-env/trident_env/lib/python3.11/site-packages (from azure-core>=1.27.0->azure.eventhub) (1.16.0)\n",
      "Requirement already satisfied: charset-normalizer<4,>=2 in /home/trusted-service-user/cluster-env/trident_env/lib/python3.11/site-packages (from requests>=2.21.0->azure-core>=1.27.0->azure.eventhub) (2.0.4)\n",
      "Requirement already satisfied: idna<4,>=2.5 in /home/trusted-service-user/cluster-env/trident_env/lib/python3.11/site-packages (from requests>=2.21.0->azure-core>=1.27.0->azure.eventhub) (3.4)\n",
      "Requirement already satisfied: urllib3<3,>=1.21.1 in /home/trusted-service-user/cluster-env/trident_env/lib/python3.11/site-packages (from requests>=2.21.0->azure-core>=1.27.0->azure.eventhub) (2.1.0)\n",
      "Requirement already satisfied: certifi>=2017.4.17 in /home/trusted-service-user/cluster-env/trident_env/lib/python3.11/site-packages (from requests>=2.21.0->azure-core>=1.27.0->azure.eventhub) (2024.2.2)\n",
      "Downloading azure_eventhub-5.14.0-py3-none-any.whl (326 kB)\n",
      "\u001b[2K   \u001b[90m━━━━━━━━━━━━━━━━━━━━━━━━━━━━━━━━━━━━━━━━\u001b[0m \u001b[32m326.3/326.3 kB\u001b[0m \u001b[31m7.2 MB/s\u001b[0m eta \u001b[36m0:00:00\u001b[0ma \u001b[36m0:00:01\u001b[0m\n",
      "\u001b[?25hInstalling collected packages: azure.eventhub\n",
      "Successfully installed azure.eventhub-5.14.0\n",
      "Note: you may need to restart the kernel to use updated packages.\n"
     ]
    }
   ],
   "source": [
    "pip install azure.eventhub"
   ]
  },
  {
   "cell_type": "code",
   "execution_count": null,
   "id": "3732967e-a683-47dc-b339-54c83ded8d75",
   "metadata": {
    "microsoft": {
     "language": "python",
     "language_group": "synapse_pyspark"
    }
   },
   "outputs": [
    {
     "data": {
      "application/vnd.livy.statement-meta+json": {
       "execution_finish_time": null,
       "execution_start_time": "2025-02-23T20:43:58.5365323Z",
       "livy_statement_state": "running",
       "normalized_state": "running",
       "parent_msg_id": "27a0b5c0-b896-4269-a5f4-571aaeb15dd7",
       "queued_time": "2025-02-23T20:43:58.3961632Z",
       "session_id": "672164c8-86ff-4130-9853-f9a52b91acdb",
       "session_start_time": null,
       "spark_pool": null,
       "state": "submitted",
       "statement_id": 9,
       "statement_ids": [
        9
       ]
      },
      "text/plain": [
       "StatementMeta(, 672164c8-86ff-4130-9853-f9a52b91acdb, 9, Submitted, Running, Running)"
      ]
     },
     "metadata": {},
     "output_type": "display_data"
    },
    {
     "name": "stdout",
     "output_type": "stream",
     "text": [
      "Dados enviados: {\"DeviceID\": \"Device3\", \"DateTimeUTC\": \"2025-02-23T20:43:59.243293\", \"Temp\": 38.37}\n",
      "Dados enviados: {\"DeviceID\": \"Device1\", \"DateTimeUTC\": \"2025-02-23T20:44:04.522657\", \"Temp\": 30.35}\n",
      "Dados enviados: {\"DeviceID\": \"Device2\", \"DateTimeUTC\": \"2025-02-23T20:44:09.572100\", \"Temp\": 18.31}\n"
     ]
    }
   ],
   "source": [
    "import json\n",
    "import random\n",
    "import datetime\n",
    "import time\n",
    "from azure.eventhub import EventHubProducerClient, EventData\n",
    "\n",
    "# Configurações do Event Hub\n",
    "CONNECTION_STRING = \"Endpoint=sb://#NAMESPACE#.servicebus.windows.net/;SharedAccessKeyName=#SHAREDACCESSKEYNAME#;SharedAccessKey=#KEY#\"\n",
    "EVENT_HUB_NAME = \"#HUBNAME#\"\n",
    "\n",
    "\n",
    "# Função para gerar dados simulados\n",
    "def generate_thermostat_data():\n",
    "    devices = [\"Device1\", \"Device2\", \"Device3\"]\n",
    "    device_id = random.choice(devices)\n",
    "    datetime_utc = datetime.datetime.utcnow().isoformat()\n",
    "    temp = round(random.uniform(17, 45), 2)  # Temperatura entre 17 e 45 com 2 casas decimais\n",
    "    return {\"DeviceID\": device_id, \"DateTimeUTC\": datetime_utc, \"Temp\": temp}\n",
    "\n",
    "# Função para enviar eventos\n",
    "def send_events():\n",
    "    producer = EventHubProducerClient.from_connection_string(conn_str=CONNECTION_STRING, eventhub_name=EVENT_HUB_NAME)\n",
    "    try:\n",
    "        while True:\n",
    "            # Cria um lote de eventos\n",
    "            event_data_batch = producer.create_batch()\n",
    "\n",
    "            # Gerar e adicionar dados simulados ao lote\n",
    "            for _ in range(3):  # Três eventos no lote\n",
    "                data = generate_thermostat_data()\n",
    "                json_data = json.dumps(data)  # Converte o dicionário para JSON\n",
    "                event_data = EventData(json_data)  # Usa o JSON como dado\n",
    "                event_data_batch.add(event_data)\n",
    "\n",
    "            # Envia o lote para o Event Hub\n",
    "            producer.send_batch(event_data_batch)\n",
    "            print(f\"Dados enviados: {json_data}\")\n",
    "            \n",
    "            # Intervalo entre envios\n",
    "            time.sleep(5)\n",
    "\n",
    "    except Exception as e:\n",
    "        print(f\"Erro ao enviar dados: {e}\")\n",
    "\n",
    "    finally:\n",
    "        producer.close()\n",
    "\n",
    "if __name__ == \"__main__\":\n",
    "    send_events()\n"
   ]
  }
 ],
 "metadata": {
  "dependencies": {},
  "kernel_info": {
   "name": "synapse_pyspark"
  },
  "kernelspec": {
   "display_name": "Synapse PySpark",
   "language": "Python",
   "name": "synapse_pyspark"
  },
  "language_info": {
   "name": "python"
  },
  "microsoft": {
   "language": "python",
   "language_group": "synapse_pyspark",
   "ms_spell_check": {
    "ms_spell_check_language": "en"
   }
  },
  "nteract": {
   "version": "nteract-front-end@1.0.0"
  },
  "spark_compute": {
   "compute_id": "/trident/default",
   "session_options": {
    "conf": {
     "spark.synapse.nbs.session.timeout": "1200000"
    }
   }
  }
 },
 "nbformat": 4,
 "nbformat_minor": 5
}
